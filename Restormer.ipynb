{
  "cells": [
    {
      "cell_type": "markdown",
      "metadata": {
        "id": "IeGEHo0VjpY5"
      },
      "source": [
        "# Restormer: Efficient Transformer for High-Resolution Image Restoration (CVPR 2022 -- Oral) [![paper](https://img.shields.io/badge/arXiv-Paper-<COLOR>.svg)](https://arxiv.org/abs/2111.09881)\n",
        "\n",
        "<hr />\n",
        "\n",
        "This is a demo to run Restormer on you own images for the following tasks\n",
        "- Real Image Denoising\n",
        "- Single-Image Defocus Deblurring\n",
        "- Single-Image Motion Deblurring\n",
        "- Image Deraining\n"
      ]
    },
    {
      "cell_type": "markdown",
      "metadata": {
        "id": "SRd46QaXlklQ"
      },
      "source": [
        "# 1. Setup\n",
        "- First, in the **Runtime** menu -> **Change runtime type**, make sure to have ```Hardware Accelerator = GPU```\n",
        "- Clone repo and install dependencies.\n"
      ]
    },
    {
      "cell_type": "code",
      "source": [
        "# prompt: driver mount\n",
        "\n",
        "from google.colab import drive\n",
        "drive.mount('/content/drive')\n",
        "%cd /content/drive/MyDrive/"
      ],
      "metadata": {
        "colab": {
          "base_uri": "https://localhost:8080/"
        },
        "id": "9KMZgrG0bN2T",
        "outputId": "d3f56a4e-f1cc-407b-d577-492468e6c833"
      },
      "execution_count": null,
      "outputs": [
        {
          "output_type": "stream",
          "name": "stdout",
          "text": [
            "Mounted at /content/drive\n",
            "/content/drive/MyDrive\n"
          ]
        }
      ]
    },
    {
      "cell_type": "code",
      "execution_count": null,
      "metadata": {
        "id": "GLDZ9t1pm9JZ",
        "colab": {
          "base_uri": "https://localhost:8080/"
        },
        "outputId": "6bbd1670-ce73-4db2-8e29-9cb21bc9a486"
      },
      "outputs": [
        {
          "output_type": "stream",
          "name": "stdout",
          "text": [
            "Requirement already satisfied: einops in /usr/local/lib/python3.10/dist-packages (0.8.0)\n",
            "Cloning into 'Restormer'...\n",
            "remote: Enumerating objects: 309, done.\u001b[K\n",
            "remote: Counting objects: 100% (309/309), done.\u001b[K\n",
            "remote: Compressing objects: 100% (174/174), done.\u001b[K\n",
            "remote: Total 309 (delta 122), reused 261 (delta 113), pack-reused 0 (from 0)\u001b[K\n",
            "Receiving objects: 100% (309/309), 1.56 MiB | 11.48 MiB/s, done.\n",
            "Resolving deltas: 100% (122/122), done.\n",
            "Updating files: 100% (120/120), done.\n",
            "/content/drive/MyDrive/Restormer\n"
          ]
        }
      ],
      "source": [
        "import os\n",
        "!pip install einops\n",
        "\n",
        "if os.path.isdir('Restormer'):\n",
        "  !rm -r Restormer\n",
        "\n",
        "# Clone Restormer\n",
        "!git clone https://github.com/swz30/Restormer.git\n",
        "%cd Restormer\n"
      ]
    },
    {
      "cell_type": "markdown",
      "metadata": {
        "id": "HXxtBPA1tGxL"
      },
      "source": [
        "# 2. Define Task and Download Pre-trained Models\n",
        "Uncomment the task you would like to perform"
      ]
    },
    {
      "cell_type": "code",
      "source": [
        "# prompt: file upload\n",
        "\n",
        "# from google.colab import files\n",
        "# uploaded = files.upload(\"Denoising/pretrained_models\")"
      ],
      "metadata": {
        "colab": {
          "base_uri": "https://localhost:8080/",
          "height": 39
        },
        "id": "vQ2PvbNxR5Re",
        "outputId": "94b8f68e-dba4-4725-c702-d157ff81e677"
      },
      "execution_count": null,
      "outputs": [
        {
          "output_type": "display_data",
          "data": {
            "text/plain": [
              "<IPython.core.display.HTML object>"
            ],
            "text/html": [
              "\n",
              "     <input type=\"file\" id=\"files-b946fcc3-ad1c-4094-9f45-50055bcfea01\" name=\"files[]\" multiple disabled\n",
              "        style=\"border:none\" />\n",
              "     <output id=\"result-b946fcc3-ad1c-4094-9f45-50055bcfea01\">\n",
              "      Upload widget is only available when the cell has been executed in the\n",
              "      current browser session. Please rerun this cell to enable.\n",
              "      </output>\n",
              "      <script>// Copyright 2017 Google LLC\n",
              "//\n",
              "// Licensed under the Apache License, Version 2.0 (the \"License\");\n",
              "// you may not use this file except in compliance with the License.\n",
              "// You may obtain a copy of the License at\n",
              "//\n",
              "//      http://www.apache.org/licenses/LICENSE-2.0\n",
              "//\n",
              "// Unless required by applicable law or agreed to in writing, software\n",
              "// distributed under the License is distributed on an \"AS IS\" BASIS,\n",
              "// WITHOUT WARRANTIES OR CONDITIONS OF ANY KIND, either express or implied.\n",
              "// See the License for the specific language governing permissions and\n",
              "// limitations under the License.\n",
              "\n",
              "/**\n",
              " * @fileoverview Helpers for google.colab Python module.\n",
              " */\n",
              "(function(scope) {\n",
              "function span(text, styleAttributes = {}) {\n",
              "  const element = document.createElement('span');\n",
              "  element.textContent = text;\n",
              "  for (const key of Object.keys(styleAttributes)) {\n",
              "    element.style[key] = styleAttributes[key];\n",
              "  }\n",
              "  return element;\n",
              "}\n",
              "\n",
              "// Max number of bytes which will be uploaded at a time.\n",
              "const MAX_PAYLOAD_SIZE = 100 * 1024;\n",
              "\n",
              "function _uploadFiles(inputId, outputId) {\n",
              "  const steps = uploadFilesStep(inputId, outputId);\n",
              "  const outputElement = document.getElementById(outputId);\n",
              "  // Cache steps on the outputElement to make it available for the next call\n",
              "  // to uploadFilesContinue from Python.\n",
              "  outputElement.steps = steps;\n",
              "\n",
              "  return _uploadFilesContinue(outputId);\n",
              "}\n",
              "\n",
              "// This is roughly an async generator (not supported in the browser yet),\n",
              "// where there are multiple asynchronous steps and the Python side is going\n",
              "// to poll for completion of each step.\n",
              "// This uses a Promise to block the python side on completion of each step,\n",
              "// then passes the result of the previous step as the input to the next step.\n",
              "function _uploadFilesContinue(outputId) {\n",
              "  const outputElement = document.getElementById(outputId);\n",
              "  const steps = outputElement.steps;\n",
              "\n",
              "  const next = steps.next(outputElement.lastPromiseValue);\n",
              "  return Promise.resolve(next.value.promise).then((value) => {\n",
              "    // Cache the last promise value to make it available to the next\n",
              "    // step of the generator.\n",
              "    outputElement.lastPromiseValue = value;\n",
              "    return next.value.response;\n",
              "  });\n",
              "}\n",
              "\n",
              "/**\n",
              " * Generator function which is called between each async step of the upload\n",
              " * process.\n",
              " * @param {string} inputId Element ID of the input file picker element.\n",
              " * @param {string} outputId Element ID of the output display.\n",
              " * @return {!Iterable<!Object>} Iterable of next steps.\n",
              " */\n",
              "function* uploadFilesStep(inputId, outputId) {\n",
              "  const inputElement = document.getElementById(inputId);\n",
              "  inputElement.disabled = false;\n",
              "\n",
              "  const outputElement = document.getElementById(outputId);\n",
              "  outputElement.innerHTML = '';\n",
              "\n",
              "  const pickedPromise = new Promise((resolve) => {\n",
              "    inputElement.addEventListener('change', (e) => {\n",
              "      resolve(e.target.files);\n",
              "    });\n",
              "  });\n",
              "\n",
              "  const cancel = document.createElement('button');\n",
              "  inputElement.parentElement.appendChild(cancel);\n",
              "  cancel.textContent = 'Cancel upload';\n",
              "  const cancelPromise = new Promise((resolve) => {\n",
              "    cancel.onclick = () => {\n",
              "      resolve(null);\n",
              "    };\n",
              "  });\n",
              "\n",
              "  // Wait for the user to pick the files.\n",
              "  const files = yield {\n",
              "    promise: Promise.race([pickedPromise, cancelPromise]),\n",
              "    response: {\n",
              "      action: 'starting',\n",
              "    }\n",
              "  };\n",
              "\n",
              "  cancel.remove();\n",
              "\n",
              "  // Disable the input element since further picks are not allowed.\n",
              "  inputElement.disabled = true;\n",
              "\n",
              "  if (!files) {\n",
              "    return {\n",
              "      response: {\n",
              "        action: 'complete',\n",
              "      }\n",
              "    };\n",
              "  }\n",
              "\n",
              "  for (const file of files) {\n",
              "    const li = document.createElement('li');\n",
              "    li.append(span(file.name, {fontWeight: 'bold'}));\n",
              "    li.append(span(\n",
              "        `(${file.type || 'n/a'}) - ${file.size} bytes, ` +\n",
              "        `last modified: ${\n",
              "            file.lastModifiedDate ? file.lastModifiedDate.toLocaleDateString() :\n",
              "                                    'n/a'} - `));\n",
              "    const percent = span('0% done');\n",
              "    li.appendChild(percent);\n",
              "\n",
              "    outputElement.appendChild(li);\n",
              "\n",
              "    const fileDataPromise = new Promise((resolve) => {\n",
              "      const reader = new FileReader();\n",
              "      reader.onload = (e) => {\n",
              "        resolve(e.target.result);\n",
              "      };\n",
              "      reader.readAsArrayBuffer(file);\n",
              "    });\n",
              "    // Wait for the data to be ready.\n",
              "    let fileData = yield {\n",
              "      promise: fileDataPromise,\n",
              "      response: {\n",
              "        action: 'continue',\n",
              "      }\n",
              "    };\n",
              "\n",
              "    // Use a chunked sending to avoid message size limits. See b/62115660.\n",
              "    let position = 0;\n",
              "    do {\n",
              "      const length = Math.min(fileData.byteLength - position, MAX_PAYLOAD_SIZE);\n",
              "      const chunk = new Uint8Array(fileData, position, length);\n",
              "      position += length;\n",
              "\n",
              "      const base64 = btoa(String.fromCharCode.apply(null, chunk));\n",
              "      yield {\n",
              "        response: {\n",
              "          action: 'append',\n",
              "          file: file.name,\n",
              "          data: base64,\n",
              "        },\n",
              "      };\n",
              "\n",
              "      let percentDone = fileData.byteLength === 0 ?\n",
              "          100 :\n",
              "          Math.round((position / fileData.byteLength) * 100);\n",
              "      percent.textContent = `${percentDone}% done`;\n",
              "\n",
              "    } while (position < fileData.byteLength);\n",
              "  }\n",
              "\n",
              "  // All done.\n",
              "  yield {\n",
              "    response: {\n",
              "      action: 'complete',\n",
              "    }\n",
              "  };\n",
              "}\n",
              "\n",
              "scope.google = scope.google || {};\n",
              "scope.google.colab = scope.google.colab || {};\n",
              "scope.google.colab._files = {\n",
              "  _uploadFiles,\n",
              "  _uploadFilesContinue,\n",
              "};\n",
              "})(self);\n",
              "</script> "
            ]
          },
          "metadata": {}
        }
      ]
    },
    {
      "cell_type": "code",
      "execution_count": null,
      "metadata": {
        "id": "ZM4ksCkZtqUA"
      },
      "outputs": [],
      "source": [
        "task = 'Real_Denoising'\n",
        "#task = 'Single_Image_Defocus_Deblurring'\n",
        "# task = 'Motion_Deblurring'\n",
        "# task = 'Deraining'\n",
        "\n",
        "# # Download the pre-trained models\n",
        "# if task is 'Real_Denoising':\n",
        "  # !wget https://github.com/swz30/Restormer/releases/download/v1.0/real_denoising.pth -P Denoising/pretrained_models\n",
        "# if task is 'Single_Image_Defocus_Deblurring':\n",
        "#   !wget https://github.com/swz30/Restormer/releases/download/v1.0/single_image_defocus_deblurring.pth -P Defocus_Deblurring/pretrained_models\n",
        "# if task is 'Motion_Deblurring':\n",
        "#   !wget https://github.com/swz30/Restormer/releases/download/v1.0/motion_deblurring.pth -P Motion_Deblurring/pretrained_models\n",
        "# if task is 'Deraining':\n",
        "#   !wget https://github.com/swz30/Restormer/releases/download/v1.0/deraining.pth -P Deraining/pretrained_models\n"
      ]
    },
    {
      "cell_type": "markdown",
      "metadata": {
        "id": "p9nwA_Prt7PI"
      },
      "source": [
        "# 3. Upload Images\n",
        "Either download the sample images or upload your own images"
      ]
    },
    {
      "cell_type": "code",
      "execution_count": null,
      "metadata": {
        "id": "bC_q1NshvQHz"
      },
      "outputs": [],
      "source": [
        "# import os\n",
        "# import shutil\n",
        "# from google.colab import files\n",
        "\n",
        "# # Download sample images\n",
        "# # !rm -r demo/*\n",
        "# # !wget https://github.com/swz30/Restormer/releases/download/v1.0/sample_images.zip -P demo\n",
        "# # shutil.unpack_archive('demo/sample_images.zip', 'demo/')\n",
        "# # os.remove('demo/sample_images.zip')\n",
        "\n",
        "# # OR Uncomment the following block if you would like to upload your own images.\n",
        "\n",
        "# !rm -r demo/*\n",
        "# input_dir = 'demo/sample_images/'+task+'/degraded'\n",
        "# os.makedirs(input_dir, exist_ok=True)\n",
        "# uploaded = files.upload()\n",
        "# for filename in uploaded.keys():\n",
        "#   input_path = os.path.join(input_dir, filename)\n",
        "#   shutil.move(filename, input_path)"
      ]
    },
    {
      "cell_type": "markdown",
      "metadata": {
        "id": "W7ArqQfvBbRf"
      },
      "source": [
        "# 4. Prepare Model and Load Checkpoint"
      ]
    },
    {
      "cell_type": "code",
      "execution_count": null,
      "metadata": {
        "id": "sOJN6gHGCKGK",
        "colab": {
          "base_uri": "https://localhost:8080/",
          "height": 339
        },
        "outputId": "0760015e-30be-42d3-f54c-b1a2e6768d4c"
      },
      "outputs": [
        {
          "output_type": "error",
          "ename": "FileNotFoundError",
          "evalue": "[Errno 2] No such file or directory: '/content/drive/MyDrive/Restormer/Denoising/pretrained_models/real_denoising.pth'",
          "traceback": [
            "\u001b[0;31m---------------------------------------------------------------------------\u001b[0m",
            "\u001b[0;31mFileNotFoundError\u001b[0m                         Traceback (most recent call last)",
            "\u001b[0;32m<ipython-input-8-079372b45ccb>\u001b[0m in \u001b[0;36m<cell line: 34>\u001b[0;34m()\u001b[0m\n\u001b[1;32m     32\u001b[0m \u001b[0mmodel\u001b[0m\u001b[0;34m.\u001b[0m\u001b[0mcuda\u001b[0m\u001b[0;34m(\u001b[0m\u001b[0;34m)\u001b[0m\u001b[0;34m\u001b[0m\u001b[0;34m\u001b[0m\u001b[0m\n\u001b[1;32m     33\u001b[0m \u001b[0;34m\u001b[0m\u001b[0m\n\u001b[0;32m---> 34\u001b[0;31m \u001b[0mmodel\u001b[0m\u001b[0;34m.\u001b[0m\u001b[0mload_state_dict\u001b[0m\u001b[0;34m(\u001b[0m\u001b[0mtorch\u001b[0m\u001b[0;34m.\u001b[0m\u001b[0mload\u001b[0m\u001b[0;34m(\u001b[0m\u001b[0mweights\u001b[0m\u001b[0;34m)\u001b[0m\u001b[0;34m)\u001b[0m\u001b[0;34m\u001b[0m\u001b[0;34m\u001b[0m\u001b[0m\n\u001b[0m\u001b[1;32m     35\u001b[0m \u001b[0mmodel\u001b[0m\u001b[0;34m.\u001b[0m\u001b[0meval\u001b[0m\u001b[0;34m(\u001b[0m\u001b[0;34m)\u001b[0m\u001b[0;34m\u001b[0m\u001b[0;34m\u001b[0m\u001b[0m\n",
            "\u001b[0;32m/usr/local/lib/python3.10/dist-packages/torch/serialization.py\u001b[0m in \u001b[0;36mload\u001b[0;34m(f, map_location, pickle_module, weights_only, mmap, **pickle_load_args)\u001b[0m\n\u001b[1;32m   1317\u001b[0m         \u001b[0mpickle_load_args\u001b[0m\u001b[0;34m[\u001b[0m\u001b[0;34m\"encoding\"\u001b[0m\u001b[0;34m]\u001b[0m \u001b[0;34m=\u001b[0m \u001b[0;34m\"utf-8\"\u001b[0m\u001b[0;34m\u001b[0m\u001b[0;34m\u001b[0m\u001b[0m\n\u001b[1;32m   1318\u001b[0m \u001b[0;34m\u001b[0m\u001b[0m\n\u001b[0;32m-> 1319\u001b[0;31m     \u001b[0;32mwith\u001b[0m \u001b[0m_open_file_like\u001b[0m\u001b[0;34m(\u001b[0m\u001b[0mf\u001b[0m\u001b[0;34m,\u001b[0m \u001b[0;34m\"rb\"\u001b[0m\u001b[0;34m)\u001b[0m \u001b[0;32mas\u001b[0m \u001b[0mopened_file\u001b[0m\u001b[0;34m:\u001b[0m\u001b[0;34m\u001b[0m\u001b[0;34m\u001b[0m\u001b[0m\n\u001b[0m\u001b[1;32m   1320\u001b[0m         \u001b[0;32mif\u001b[0m \u001b[0m_is_zipfile\u001b[0m\u001b[0;34m(\u001b[0m\u001b[0mopened_file\u001b[0m\u001b[0;34m)\u001b[0m\u001b[0;34m:\u001b[0m\u001b[0;34m\u001b[0m\u001b[0;34m\u001b[0m\u001b[0m\n\u001b[1;32m   1321\u001b[0m             \u001b[0;31m# The zipfile reader is going to advance the current file position.\u001b[0m\u001b[0;34m\u001b[0m\u001b[0;34m\u001b[0m\u001b[0m\n",
            "\u001b[0;32m/usr/local/lib/python3.10/dist-packages/torch/serialization.py\u001b[0m in \u001b[0;36m_open_file_like\u001b[0;34m(name_or_buffer, mode)\u001b[0m\n\u001b[1;32m    657\u001b[0m \u001b[0;32mdef\u001b[0m \u001b[0m_open_file_like\u001b[0m\u001b[0;34m(\u001b[0m\u001b[0mname_or_buffer\u001b[0m\u001b[0;34m,\u001b[0m \u001b[0mmode\u001b[0m\u001b[0;34m)\u001b[0m\u001b[0;34m:\u001b[0m\u001b[0;34m\u001b[0m\u001b[0;34m\u001b[0m\u001b[0m\n\u001b[1;32m    658\u001b[0m     \u001b[0;32mif\u001b[0m \u001b[0m_is_path\u001b[0m\u001b[0;34m(\u001b[0m\u001b[0mname_or_buffer\u001b[0m\u001b[0;34m)\u001b[0m\u001b[0;34m:\u001b[0m\u001b[0;34m\u001b[0m\u001b[0;34m\u001b[0m\u001b[0m\n\u001b[0;32m--> 659\u001b[0;31m         \u001b[0;32mreturn\u001b[0m \u001b[0m_open_file\u001b[0m\u001b[0;34m(\u001b[0m\u001b[0mname_or_buffer\u001b[0m\u001b[0;34m,\u001b[0m \u001b[0mmode\u001b[0m\u001b[0;34m)\u001b[0m\u001b[0;34m\u001b[0m\u001b[0;34m\u001b[0m\u001b[0m\n\u001b[0m\u001b[1;32m    660\u001b[0m     \u001b[0;32melse\u001b[0m\u001b[0;34m:\u001b[0m\u001b[0;34m\u001b[0m\u001b[0;34m\u001b[0m\u001b[0m\n\u001b[1;32m    661\u001b[0m         \u001b[0;32mif\u001b[0m \u001b[0;34m\"w\"\u001b[0m \u001b[0;32min\u001b[0m \u001b[0mmode\u001b[0m\u001b[0;34m:\u001b[0m\u001b[0;34m\u001b[0m\u001b[0;34m\u001b[0m\u001b[0m\n",
            "\u001b[0;32m/usr/local/lib/python3.10/dist-packages/torch/serialization.py\u001b[0m in \u001b[0;36m__init__\u001b[0;34m(self, name, mode)\u001b[0m\n\u001b[1;32m    638\u001b[0m \u001b[0;32mclass\u001b[0m \u001b[0m_open_file\u001b[0m\u001b[0;34m(\u001b[0m\u001b[0m_opener\u001b[0m\u001b[0;34m)\u001b[0m\u001b[0;34m:\u001b[0m\u001b[0;34m\u001b[0m\u001b[0;34m\u001b[0m\u001b[0m\n\u001b[1;32m    639\u001b[0m     \u001b[0;32mdef\u001b[0m \u001b[0m__init__\u001b[0m\u001b[0;34m(\u001b[0m\u001b[0mself\u001b[0m\u001b[0;34m,\u001b[0m \u001b[0mname\u001b[0m\u001b[0;34m,\u001b[0m \u001b[0mmode\u001b[0m\u001b[0;34m)\u001b[0m\u001b[0;34m:\u001b[0m\u001b[0;34m\u001b[0m\u001b[0;34m\u001b[0m\u001b[0m\n\u001b[0;32m--> 640\u001b[0;31m         \u001b[0msuper\u001b[0m\u001b[0;34m(\u001b[0m\u001b[0;34m)\u001b[0m\u001b[0;34m.\u001b[0m\u001b[0m__init__\u001b[0m\u001b[0;34m(\u001b[0m\u001b[0mopen\u001b[0m\u001b[0;34m(\u001b[0m\u001b[0mname\u001b[0m\u001b[0;34m,\u001b[0m \u001b[0mmode\u001b[0m\u001b[0;34m)\u001b[0m\u001b[0;34m)\u001b[0m\u001b[0;34m\u001b[0m\u001b[0;34m\u001b[0m\u001b[0m\n\u001b[0m\u001b[1;32m    641\u001b[0m \u001b[0;34m\u001b[0m\u001b[0m\n\u001b[1;32m    642\u001b[0m     \u001b[0;32mdef\u001b[0m \u001b[0m__exit__\u001b[0m\u001b[0;34m(\u001b[0m\u001b[0mself\u001b[0m\u001b[0;34m,\u001b[0m \u001b[0;34m*\u001b[0m\u001b[0margs\u001b[0m\u001b[0;34m)\u001b[0m\u001b[0;34m:\u001b[0m\u001b[0;34m\u001b[0m\u001b[0;34m\u001b[0m\u001b[0m\n",
            "\u001b[0;31mFileNotFoundError\u001b[0m: [Errno 2] No such file or directory: '/content/drive/MyDrive/Restormer/Denoising/pretrained_models/real_denoising.pth'"
          ]
        }
      ],
      "source": [
        "import torch\n",
        "import torch.nn.functional as F\n",
        "import torchvision.transforms.functional as TF\n",
        "from runpy import run_path\n",
        "from skimage import img_as_ubyte\n",
        "from natsort import natsorted\n",
        "from glob import glob\n",
        "import cv2\n",
        "from tqdm import tqdm\n",
        "import numpy as np\n",
        "\n",
        "def get_weights_and_parameters(task, parameters):\n",
        "    if task == 'Motion_Deblurring':\n",
        "        weights = os.path.join('Motion_Deblurring', 'pretrained_models', 'motion_deblurring.pth')\n",
        "    elif task == 'Single_Image_Defocus_Deblurring':\n",
        "        weights = os.path.join('Defocus_Deblurring', 'pretrained_models', 'single_image_defocus_deblurring.pth')\n",
        "    elif task == 'Deraining':\n",
        "        weights = os.path.join('Deraining', 'pretrained_models', 'deraining.pth')\n",
        "    elif task == 'Real_Denoising':\n",
        "        weights = '/content/drive/MyDrive/Restormer/Denoising/pretrained_models/real_denoising.pth'\n",
        "        parameters['LayerNorm_type'] =  'BiasFree'\n",
        "    return weights, parameters\n",
        "\n",
        "\n",
        "# Get model weights and parameters\n",
        "parameters = {'inp_channels':3, 'out_channels':3, 'dim':48, 'num_blocks':[4,6,6,8], 'num_refinement_blocks':4, 'heads':[1,2,4,8], 'ffn_expansion_factor':2.66, 'bias':False, 'LayerNorm_type':'WithBias', 'dual_pixel_task':False}\n",
        "weights, parameters = get_weights_and_parameters(task, parameters)\n",
        "\n",
        "# load_arch = run_path(os.path.join('basicsr', 'models', 'archs', 'restormer_arch.py'))\n",
        "load_arch = run_path('/content/drive/MyDrive/Restormer/basicsr/models/archs/restormer_arch.py')\n",
        "model = load_arch['Restormer'](**parameters)\n",
        "model.cuda()\n",
        "\n",
        "model.load_state_dict(torch.load(weights))\n",
        "model.eval()\n"
      ]
    },
    {
      "cell_type": "markdown",
      "source": [
        "# Training"
      ],
      "metadata": {
        "id": "2qTUUofneNW1"
      }
    },
    {
      "cell_type": "code",
      "source": [
        "# import dataset\n",
        "from torch.utils.data import Dataset, DataLoader\n",
        "from torchvision.transforms import CenterCrop, Resize\n",
        "\n",
        "class CustomDataset(Dataset):\n",
        "    def __init__(self, clean_image_paths, noisy_image_paths, transform=None):\n",
        "        self.clean_image_paths = [os.path.join(clean_image_paths, x) for x in os.listdir(clean_image_paths)]\n",
        "        self.noisy_image_paths = [os.path.join(noisy_image_paths, x) for x in os.listdir(noisy_image_paths)]\n",
        "        self.transform = transform\n",
        "        self.center_crop = CenterCrop(1080)\n",
        "        self.resize = Resize((CFG['IMG_SIZE'], CFG['IMG_SIZE']))\n",
        "\n",
        "        # Create a list of (noisy, clean) pairs\n",
        "        self.noisy_clean_pairs = self._create_noisy_clean_pairs()\n",
        "\n",
        "    def _create_noisy_clean_pairs(self):\n",
        "        clean_to_noisy = {}\n",
        "        for clean_path in self.clean_image_paths:\n",
        "            clean_id = '_'.join(os.path.basename(clean_path).split('_')[:-1])\n",
        "            clean_to_noisy[clean_id] = clean_path\n",
        "\n",
        "        noisy_clean_pairs = []\n",
        "        for noisy_path in self.noisy_image_paths:\n",
        "            noisy_id = '_'.join(os.path.basename(noisy_path).split('_')[:-1])\n",
        "            if noisy_id in clean_to_noisy:\n",
        "                clean_path = clean_to_noisy[noisy_id]\n",
        "                noisy_clean_pairs.append((noisy_path, clean_path))\n",
        "            else:\n",
        "                pass\n",
        "\n",
        "        return noisy_clean_pairs\n",
        "\n",
        "    def __len__(self):\n",
        "        return len(self.noisy_clean_pairs)\n",
        "\n",
        "    def __getitem__(self, index):\n",
        "        noisy_image_path, clean_image_path = self.noisy_clean_pairs[index]\n",
        "\n",
        "        noisy_image = Image.open(noisy_image_path).convert(\"RGB\")\n",
        "        clean_image = Image.open(clean_image_path).convert(\"RGB\")\n",
        "\n",
        "        # Central Crop and Resize\n",
        "        noisy_image = self.center_crop(noisy_image)\n",
        "        clean_image = self.center_crop(clean_image)\n",
        "        noisy_image = self.resize(noisy_image)\n",
        "        clean_image = self.resize(clean_image)\n",
        "\n",
        "        if self.transform:\n",
        "            noisy_image = self.transform(noisy_image)\n",
        "            clean_image = self.transform(clean_image)\n",
        "\n",
        "        return noisy_image, clean_image"
      ],
      "metadata": {
        "id": "bn63kyI3eMqw"
      },
      "execution_count": null,
      "outputs": []
    },
    {
      "cell_type": "code",
      "source": [
        "import os\n",
        "import shutil\n",
        "\n",
        "import random\n",
        "import numpy as np\n",
        "import time\n",
        "import cv2\n",
        "import torch\n",
        "import torch.nn as nn\n",
        "import torch.optim as optim\n",
        "import torch.utils.data as data\n",
        "import torch.nn.functional as F\n",
        "from torch.utils.data import DataLoader\n",
        "from torchvision.transforms import Compose, ToTensor\n",
        "from torch.utils.data import Dataset\n",
        "import torchvision.transforms as transforms\n",
        "from torch.cuda.amp import autocast, GradScaler\n",
        "from torch.optim.lr_scheduler import CosineAnnealingLR\n",
        "from torchvision.transforms import CenterCrop, Resize\n",
        "from PIL import Image\n",
        "import matplotlib.pyplot as plt\n",
        "\n",
        "import warnings\n",
        "warnings.filterwarnings(action='ignore')\n"
      ],
      "metadata": {
        "id": "NgVxplkhei1p"
      },
      "execution_count": null,
      "outputs": []
    },
    {
      "cell_type": "code",
      "source": [
        "CFG = {\n",
        "    'IMG_SIZE':224,\n",
        "    'EPOCHS':10,\n",
        "    'LEARNING_RATE':5e-4,\n",
        "    'BATCH_SIZE':2,\n",
        "    'SEED':42\n",
        "}"
      ],
      "metadata": {
        "id": "fKl3yAgAepKg"
      },
      "execution_count": null,
      "outputs": []
    },
    {
      "cell_type": "code",
      "source": [
        "import tqdm\n",
        "\n",
        "# 시작 시간 기록\n",
        "start_time = time.time()\n",
        "model.train()\n",
        "\n",
        "def weights_init(m):\n",
        "    if isinstance(m, nn.Conv2d):\n",
        "        nn.init.kaiming_uniform_(m.weight.data, mode='fan_in', nonlinearity='relu')\n",
        "\n",
        "def load_img(filepath):\n",
        "    img = cv2.imread(filepath)\n",
        "    img = cv2.cvtColor(img, cv2.COLOR_BGR2RGB)\n",
        "    return img\n",
        "\n",
        "def count_parameters(model):\n",
        "    return sum(p.numel() for p in model.parameters() if p.requires_grad)\n",
        "\n",
        "# 데이터셋 경로\n",
        "noisy_image_paths = '/content/drive/MyDrive/Training/fuck_noisy'\n",
        "clean_image_paths = '/content/drive/MyDrive/Training/clean'\n",
        "\n",
        "# 데이터셋 로드 및 전처리\n",
        "train_transform = Compose([\n",
        "    ToTensor(),\n",
        "    transforms.Normalize(mean=[0.485, 0.456, 0.406], std=[0.229, 0.224, 0.225])\n",
        "])\n",
        "\n",
        "# 커스텀 데이터셋 인스턴스 생성\n",
        "train_dataset = CustomDataset(clean_image_paths, noisy_image_paths, transform=train_transform)\n",
        "\n",
        "# 전체 데이터셋 크기의 10% 계산\n",
        "subset_size = int(len(train_dataset) * 0.05)\n",
        "\n",
        "# Random sampler 생성\n",
        "from torch.utils.data import SubsetRandomSampler\n",
        "import numpy as np\n",
        "\n",
        "# 전체 인덱스에서 랜덤하게 10% 선택\n",
        "indices = np.random.permutation(len(train_dataset))\n",
        "subset_indices = indices[:subset_size]\n",
        "sampler = SubsetRandomSampler(subset_indices)\n",
        "\n",
        "# 데이터 로더 설정\n",
        "num_cores = os.cpu_count()\n",
        "# 새로운 DataLoader 생성 (sampler 사용)\n",
        "train_loader = DataLoader(\n",
        "    train_dataset,\n",
        "    batch_size=CFG['BATCH_SIZE'],\n",
        "    num_workers=2,\n",
        "    sampler=sampler  # shuffle=True 대신 sampler 사용\n",
        ")\n",
        "\n",
        "# GPU 사용 여부 확인\n",
        "device = torch.device('cuda' if torch.cuda.is_available() else 'cpu')\n",
        "\n",
        "\n",
        "# 손실 함수와 최적화 알고리즘 설정\n",
        "optimizer = optim.AdamW(model.parameters(), lr = CFG['LEARNING_RATE'], weight_decay=1e-4)\n",
        "criterion = nn.MSELoss()\n",
        "scaler = GradScaler()\n",
        "scheduler = CosineAnnealingLR(optimizer, T_max=50)\n",
        "\n",
        "# 모델의 파라미터 수 계산\n",
        "total_parameters = count_parameters(model)\n",
        "print(\"Total Parameters:\", total_parameters)\n",
        "\n",
        "# 모델 학습\n",
        "model.train()\n",
        "best_loss = 1000\n",
        "\n",
        "for epoch in range(1, 50):\n",
        "    model.train()\n",
        "    epoch_start_time = time.time()\n",
        "    mse_running_loss = 0.0\n",
        "\n",
        "    for noisy_images, clean_images in tqdm.tqdm(train_loader):\n",
        "        noisy_images = noisy_images.to(device)\n",
        "        clean_images = clean_images.to(device)\n",
        "\n",
        "        optimizer.zero_grad()\n",
        "\n",
        "        with autocast():\n",
        "            outputs = model(noisy_images)\n",
        "            mse_loss = criterion(outputs, clean_images)\n",
        "\n",
        "            # show sampled output and clean_image\n",
        "            # Detach and move to CPU for display\n",
        "            sampled_output = outputs[0].detach().cpu().numpy().transpose(1, 2, 0)\n",
        "            sampled_clean = clean_images[0].detach().cpu().numpy().transpose(1, 2, 0)\n",
        "\n",
        "            # Rescale to [0, 1] for display purposes\n",
        "            sampled_output = (sampled_output * 0.5 + 0.5).clip(0, 1)\n",
        "            sampled_clean = (sampled_clean * 0.5 + 0.5).clip(0, 1)\n",
        "\n",
        "            # Display images using matplotlib\n",
        "            plt.figure(figsize=(10, 5))\n",
        "            plt.subplot(1, 3, 1)\n",
        "            plt.imshow(noisy_images[0].detach().cpu().numpy().transpose(1, 2, 0))\n",
        "            plt.title(\"Noisy Image\")\n",
        "            plt.axis(\"off\")\n",
        "\n",
        "            plt.subplot(1, 3, 2)\n",
        "            plt.imshow(sampled_output)\n",
        "            plt.title(\"Model Output\")\n",
        "            plt.axis(\"off\")\n",
        "\n",
        "            plt.subplot(1, 3, 3)\n",
        "            plt.imshow(sampled_clean)\n",
        "            plt.title(\"Clean Image\")\n",
        "            plt.axis(\"off\")\n",
        "\n",
        "            plt.show()\n",
        "\n",
        "        scaler.scale(mse_loss).backward()\n",
        "        torch.nn.utils.clip_grad_norm_(model.parameters(), max_norm=1.0)\n",
        "        scaler.step(optimizer)\n",
        "        scaler.update()\n",
        "        scheduler.step()\n",
        "\n",
        "        mse_running_loss += mse_loss.item() * noisy_images.size(0)\n",
        "\n",
        "    current_lr = scheduler.get_last_lr()[0]\n",
        "    epoch_end_time = time.time()\n",
        "    epoch_time = epoch_end_time - epoch_start_time\n",
        "    minutes = int(epoch_time // 60)\n",
        "    seconds = int(epoch_time % 60)\n",
        "    hours = int(minutes // 60)\n",
        "    minutes = int(minutes % 60)\n",
        "\n",
        "    mse_epoch_loss = mse_running_loss / len(train_dataset)\n",
        "    print(f\"Epoch {epoch+1}/{CFG['EPOCHS']}, MSE Loss: {mse_epoch_loss:.4f}, Lr: {current_lr:.8f}\")\n",
        "    print(f\"1epoch 훈련 소요 시간: {hours}시간 {minutes}분 {seconds}초\")\n",
        "\n",
        "    class CustomDatasetTest(data.Dataset):\n",
        "      def __init__(self, noisy_image_paths, transform=None):\n",
        "          self.noisy_image_paths = [os.path.join(noisy_image_paths, x) for x in os.listdir(noisy_image_paths)]\n",
        "          self.transform = transform\n",
        "\n",
        "      def __len__(self):\n",
        "          return len(self.noisy_image_paths)\n",
        "\n",
        "      def __getitem__(self, index):\n",
        "          noisy_image_path = self.noisy_image_paths[index]\n",
        "          noisy_image = load_img(self.noisy_image_paths[index])\n",
        "\n",
        "          # Convert numpy array to PIL image\n",
        "          if isinstance(noisy_image, np.ndarray):\n",
        "              noisy_image = Image.fromarray(noisy_image)\n",
        "\n",
        "          if self.transform:\n",
        "              noisy_image = self.transform(noisy_image)\n",
        "\n",
        "          return noisy_image, noisy_image_path\n",
        "\n",
        "\n",
        "    test_transform = Compose([\n",
        "        ToTensor(),\n",
        "        transforms.Normalize(mean=[0.485, 0.456, 0.406], std=[0.229, 0.224, 0.225])\n",
        "  ])\n",
        "\n",
        "    def load_img(filepath):\n",
        "        img = cv2.imread(filepath)\n",
        "        img = cv2.cvtColor(img, cv2.COLOR_BGR2RGB)\n",
        "        return img\n",
        "\n",
        "\n",
        "    # GPU 사용 여부 확인\n",
        "    device = torch.device('cuda' if torch.cuda.is_available() else 'cpu')\n",
        "    model.to(device)\n",
        "\n",
        "\n",
        "    # 데이터셋 경로\n",
        "    test_data_path = '/content/drive/MyDrive/Blur_Input'\n",
        "    output_path = '/content/drive/MyDrive/submission'\n",
        "\n",
        "    # 데이터셋 로드 및 전처리\n",
        "    test_dataset = CustomDatasetTest(test_data_path, transform=test_transform)\n",
        "\n",
        "    # 데이터 로더 설정\n",
        "    test_loader = DataLoader(test_dataset, batch_size=1, shuffle=False)\n",
        "\n",
        "    if not os.path.exists(output_path):\n",
        "        os.makedirs(output_path)\n",
        "\n",
        "    # 이미지 denoising 및 저장\n",
        "    for noisy_image, noisy_image_path in test_loader:\n",
        "        noisy_image = noisy_image.to(device)\n",
        "        denoised_image = model(noisy_image)\n",
        "\n",
        "        # denoised_image를 CPU로 이동하여 이미지 저장\n",
        "        denoised_image = denoised_image.cpu().squeeze(0)\n",
        "        denoised_image = denoised_image * torch.tensor([0.229, 0.224, 0.225]).view(-1, 1, 1).to(denoised_image.device) + torch.tensor([0.485, 0.456, 0.406]).view(-1, 1, 1).to(denoised_image.device)\n",
        "        denoised_image = denoised_image.clamp(0, 1)\n",
        "        denoised_image = transforms.ToPILImage()(denoised_image)\n",
        "\n",
        "        # Save denoised image\n",
        "        output_filename = noisy_image_path[0]\n",
        "        denoised_filename = output_path + '/{:02d}/'.format(epoch) + output_filename.split('/')[-1][:-4] + '.jpg'\n",
        "        denoised_image.save(denoised_filename)\n",
        "\n",
        "        print(f'Saved denoised image: {denoised_filename}')\n",
        "\n",
        "    if mse_epoch_loss < best_loss:\n",
        "        best_loss = mse_epoch_loss\n",
        "        torch.save(model.state_dict(), 'best_Restormer.pth')\n",
        "        print(f\"{epoch+1}epoch 모델 저장 완료\")\n",
        "\n",
        "# 종료 시간 기록\n",
        "end_time = time.time()\n",
        "\n",
        "# 소요 시간 계산\n",
        "training_time = end_time - start_time\n",
        "minutes = int(training_time // 60)\n",
        "seconds = int(training_time % 60)\n",
        "hours = int(minutes // 60)\n",
        "minutes = int(minutes % 60)\n",
        "\n",
        "# 결과 출력\n",
        "print(f\"훈련 소요 시간: {hours}시간 {minutes}분 {seconds}초\")"
      ],
      "metadata": {
        "id": "NMbQ-UpfeePl"
      },
      "execution_count": null,
      "outputs": []
    },
    {
      "cell_type": "code",
      "source": [
        "\n",
        "class CustomDatasetTest(data.Dataset):\n",
        "      def __init__(self, noisy_image_paths, transform=None):\n",
        "          self.noisy_image_paths = [os.path.join(noisy_image_paths, x) for x in os.listdir(noisy_image_paths)]\n",
        "          self.transform = transform\n",
        "\n",
        "      def __len__(self):\n",
        "          return len(self.noisy_image_paths)\n",
        "\n",
        "      def __getitem__(self, index):\n",
        "          noisy_image_path = self.noisy_image_paths[index]\n",
        "          noisy_image = load_img(self.noisy_image_paths[index])\n",
        "\n",
        "          # Convert numpy array to PIL image\n",
        "          if isinstance(noisy_image, np.ndarray):\n",
        "              noisy_image = Image.fromarray(noisy_image)\n",
        "\n",
        "          if self.transform:\n",
        "              noisy_image = self.transform(noisy_image)\n",
        "\n",
        "          return noisy_image, noisy_image_path\n",
        "\n",
        "\n",
        "test_transform = Compose([\n",
        "    ToTensor(),\n",
        "    transforms.Normalize(mean=[0.485, 0.456, 0.406], std=[0.229, 0.224, 0.225])\n",
        "])\n",
        "\n",
        "def load_img(filepath):\n",
        "    img = cv2.imread(filepath)\n",
        "    img = cv2.cvtColor(img, cv2.COLOR_BGR2RGB)\n",
        "    return img\n",
        "\n",
        "\n",
        "# GPU 사용 여부 확인\n",
        "device = torch.device('cuda' if torch.cuda.is_available() else 'cpu')\n",
        "model.to(device)\n",
        "\n",
        "\n",
        "# 데이터셋 경로\n",
        "test_data_path = '/content/drive/MyDrive/Blur_Input'\n",
        "output_path = '/content/drive/MyDrive/submission'\n",
        "\n",
        "# 데이터셋 로드 및 전처리\n",
        "test_dataset = CustomDatasetTest(test_data_path, transform=test_transform)\n",
        "\n",
        "# 데이터 로더 설정\n",
        "test_loader = DataLoader(test_dataset, batch_size=1, shuffle=False)\n",
        "\n",
        "if not os.path.exists(output_path):\n",
        "    os.makedirs(output_path)\n",
        "\n",
        "# 이미지 denoising 및 저장\n",
        "for noisy_image, noisy_image_path in test_loader:\n",
        "    noisy_image = noisy_image.to(device)\n",
        "    denoised_image = model(noisy_image)\n",
        "\n",
        "    # denoised_image를 CPU로 이동하여 이미지 저장\n",
        "    denoised_image = denoised_image.cpu().squeeze(0)\n",
        "    denoised_image = denoised_image * torch.tensor([0.229, 0.224, 0.225]).view(-1, 1, 1).to(denoised_image.device) + torch.tensor([0.485, 0.456, 0.406]).view(-1, 1, 1).to(denoised_image.device)\n",
        "    denoised_image = denoised_image.clamp(0, 1)\n",
        "    denoised_image = transforms.ToPILImage()(denoised_image)\n",
        "\n",
        "    # Save denoised image\n",
        "    output_filename = noisy_image_path[0]\n",
        "    !mkdir -p /content/drive/MyDrive/submission/{:02epoch}\n",
        "    denoised_filename = output_path + '/{:02d}/'.format(epoch) + output_filename.split('/')[-1][:-4] + '.jpg'\n",
        "    denoised_image.save(denoised_filename)\n",
        "\n",
        "    print(f'Saved denoised image: {denoised_filename}')\n",
        "\n",
        "if mse_epoch_loss < best_loss:\n",
        "    best_loss = mse_epoch_loss\n",
        "    torch.save(model.state_dict(), 'best_Restormer.pth')\n",
        "    print(f\"{epoch+1}epoch 모델 저장 완료\")"
      ],
      "metadata": {
        "colab": {
          "base_uri": "https://localhost:8080/"
        },
        "id": "8JJepdZD_whj",
        "outputId": "dd15b54f-8a83-4a84-851c-a74c6a93ba1e"
      },
      "execution_count": null,
      "outputs": [
        {
          "output_type": "stream",
          "name": "stdout",
          "text": [
            "Saved denoised image: /content/drive/MyDrive/submission/00/TEST_203.jpg\n",
            "Saved denoised image: /content/drive/MyDrive/submission/00/TEST_005.jpg\n",
            "Saved denoised image: /content/drive/MyDrive/submission/00/TEST_165.jpg\n",
            "Saved denoised image: /content/drive/MyDrive/submission/00/TEST_011.jpg\n",
            "Saved denoised image: /content/drive/MyDrive/submission/00/TEST_164.jpg\n",
            "Saved denoised image: /content/drive/MyDrive/submission/00/TEST_158.jpg\n",
            "Saved denoised image: /content/drive/MyDrive/submission/00/TEST_206.jpg\n",
            "Saved denoised image: /content/drive/MyDrive/submission/00/TEST_170.jpg\n",
            "Saved denoised image: /content/drive/MyDrive/submission/00/TEST_004.jpg\n",
            "Saved denoised image: /content/drive/MyDrive/submission/00/TEST_210.jpg\n",
            "Saved denoised image: /content/drive/MyDrive/submission/00/TEST_038.jpg\n",
            "Saved denoised image: /content/drive/MyDrive/submission/00/TEST_159.jpg\n",
            "Saved denoised image: /content/drive/MyDrive/submission/00/TEST_010.jpg\n",
            "Saved denoised image: /content/drive/MyDrive/submission/00/TEST_171.jpg\n",
            "Saved denoised image: /content/drive/MyDrive/submission/00/TEST_204.jpg\n",
            "Saved denoised image: /content/drive/MyDrive/submission/00/TEST_199.jpg\n",
            "Saved denoised image: /content/drive/MyDrive/submission/00/TEST_172.jpg\n",
            "Saved denoised image: /content/drive/MyDrive/submission/00/TEST_173.jpg\n",
            "Saved denoised image: /content/drive/MyDrive/submission/00/TEST_012.jpg\n",
            "Saved denoised image: /content/drive/MyDrive/submission/00/TEST_205.jpg\n",
            "Saved denoised image: /content/drive/MyDrive/submission/00/TEST_013.jpg\n",
            "Saved denoised image: /content/drive/MyDrive/submission/00/TEST_198.jpg\n",
            "Saved denoised image: /content/drive/MyDrive/submission/00/TEST_167.jpg\n",
            "Saved denoised image: /content/drive/MyDrive/submission/00/TEST_166.jpg\n",
            "Saved denoised image: /content/drive/MyDrive/submission/00/TEST_006.jpg\n",
            "Saved denoised image: /content/drive/MyDrive/submission/00/TEST_211.jpg\n",
            "Saved denoised image: /content/drive/MyDrive/submission/00/TEST_007.jpg\n",
            "Saved denoised image: /content/drive/MyDrive/submission/00/TEST_148.jpg\n",
            "Saved denoised image: /content/drive/MyDrive/submission/00/TEST_067.jpg\n",
            "Saved denoised image: /content/drive/MyDrive/submission/00/TEST_139.jpg\n",
            "Saved denoised image: /content/drive/MyDrive/submission/00/TEST_110.jpg\n",
            "Saved denoised image: /content/drive/MyDrive/submission/00/TEST_105.jpg\n",
            "Saved denoised image: /content/drive/MyDrive/submission/00/TEST_104.jpg\n",
            "Saved denoised image: /content/drive/MyDrive/submission/00/TEST_064.jpg\n",
            "Saved denoised image: /content/drive/MyDrive/submission/00/TEST_138.jpg\n",
            "Saved denoised image: /content/drive/MyDrive/submission/00/TEST_070.jpg\n",
            "Saved denoised image: /content/drive/MyDrive/submission/00/TEST_003.jpg\n",
            "Saved denoised image: /content/drive/MyDrive/submission/00/TEST_017.jpg\n",
            "Saved denoised image: /content/drive/MyDrive/submission/00/TEST_201.jpg\n",
            "Saved denoised image: /content/drive/MyDrive/submission/00/TEST_111.jpg\n",
            "Saved denoised image: /content/drive/MyDrive/submission/00/TEST_058.jpg\n",
            "Saved denoised image: /content/drive/MyDrive/submission/00/TEST_188.jpg\n",
            "Saved denoised image: /content/drive/MyDrive/submission/00/TEST_174.jpg\n",
            "Saved denoised image: /content/drive/MyDrive/submission/00/TEST_176.jpg\n",
            "Saved denoised image: /content/drive/MyDrive/submission/00/TEST_160.jpg\n",
            "Saved denoised image: /content/drive/MyDrive/submission/00/TEST_000.jpg\n",
            "Saved denoised image: /content/drive/MyDrive/submission/00/TEST_014.jpg\n",
            "Saved denoised image: /content/drive/MyDrive/submission/00/TEST_028.jpg\n",
            "Saved denoised image: /content/drive/MyDrive/submission/00/TEST_162.jpg\n",
            "Saved denoised image: /content/drive/MyDrive/submission/00/TEST_202.jpg\n",
            "Saved denoised image: /content/drive/MyDrive/submission/00/TEST_161.jpg\n",
            "Saved denoised image: /content/drive/MyDrive/submission/00/TEST_177.jpg\n",
            "Saved denoised image: /content/drive/MyDrive/submission/00/TEST_029.jpg\n",
            "Saved denoised image: /content/drive/MyDrive/submission/00/TEST_207.jpg\n",
            "Saved denoised image: /content/drive/MyDrive/submission/00/TEST_039.jpg\n",
            "Saved denoised image: /content/drive/MyDrive/submission/00/TEST_149.jpg\n",
            "Saved denoised image: /content/drive/MyDrive/submission/00/TEST_015.jpg\n",
            "Saved denoised image: /content/drive/MyDrive/submission/00/TEST_175.jpg\n",
            "Saved denoised image: /content/drive/MyDrive/submission/00/TEST_001.jpg\n",
            "Saved denoised image: /content/drive/MyDrive/submission/00/TEST_163.jpg\n",
            "Saved denoised image: /content/drive/MyDrive/submission/00/TEST_189.jpg\n",
            "Saved denoised image: /content/drive/MyDrive/submission/00/TEST_002.jpg\n",
            "Saved denoised image: /content/drive/MyDrive/submission/00/TEST_016.jpg\n",
            "Saved denoised image: /content/drive/MyDrive/submission/00/TEST_200.jpg\n",
            "Saved denoised image: /content/drive/MyDrive/submission/00/TEST_086.jpg\n",
            "Saved denoised image: /content/drive/MyDrive/submission/00/TEST_060.jpg\n",
            "Saved denoised image: /content/drive/MyDrive/submission/00/TEST_092.jpg\n",
            "Saved denoised image: /content/drive/MyDrive/submission/00/TEST_100.jpg\n",
            "Saved denoised image: /content/drive/MyDrive/submission/00/TEST_128.jpg\n",
            "Saved denoised image: /content/drive/MyDrive/submission/00/TEST_048.jpg\n",
            "Saved denoised image: /content/drive/MyDrive/submission/00/TEST_114.jpg\n",
            "Saved denoised image: /content/drive/MyDrive/submission/00/TEST_101.jpg\n",
            "Saved denoised image: /content/drive/MyDrive/submission/00/TEST_115.jpg\n",
            "Saved denoised image: /content/drive/MyDrive/submission/00/TEST_049.jpg\n",
            "Saved denoised image: /content/drive/MyDrive/submission/00/TEST_074.jpg\n",
            "Saved denoised image: /content/drive/MyDrive/submission/00/TEST_129.jpg\n",
            "Saved denoised image: /content/drive/MyDrive/submission/00/TEST_061.jpg\n",
            "Saved denoised image: /content/drive/MyDrive/submission/00/TEST_075.jpg\n",
            "Saved denoised image: /content/drive/MyDrive/submission/00/TEST_077.jpg\n",
            "Saved denoised image: /content/drive/MyDrive/submission/00/TEST_103.jpg\n",
            "Saved denoised image: /content/drive/MyDrive/submission/00/TEST_112.jpg\n",
            "Saved denoised image: /content/drive/MyDrive/submission/00/TEST_066.jpg\n",
            "Saved denoised image: /content/drive/MyDrive/submission/00/TEST_072.jpg\n",
            "Saved denoised image: /content/drive/MyDrive/submission/00/TEST_117.jpg\n",
            "Saved denoised image: /content/drive/MyDrive/submission/00/TEST_102.jpg\n",
            "Saved denoised image: /content/drive/MyDrive/submission/00/TEST_116.jpg\n",
            "Saved denoised image: /content/drive/MyDrive/submission/00/TEST_099.jpg\n",
            "Saved denoised image: /content/drive/MyDrive/submission/00/TEST_089.jpg\n",
            "Saved denoised image: /content/drive/MyDrive/submission/00/TEST_062.jpg\n",
            "Saved denoised image: /content/drive/MyDrive/submission/00/TEST_076.jpg\n",
            "Saved denoised image: /content/drive/MyDrive/submission/00/TEST_063.jpg\n",
            "Saved denoised image: /content/drive/MyDrive/submission/00/TEST_106.jpg\n",
            "Saved denoised image: /content/drive/MyDrive/submission/00/TEST_059.jpg\n",
            "Saved denoised image: /content/drive/MyDrive/submission/00/TEST_073.jpg\n",
            "Saved denoised image: /content/drive/MyDrive/submission/00/TEST_065.jpg\n",
            "Saved denoised image: /content/drive/MyDrive/submission/00/TEST_098.jpg\n",
            "Saved denoised image: /content/drive/MyDrive/submission/00/TEST_107.jpg\n",
            "Saved denoised image: /content/drive/MyDrive/submission/00/TEST_071.jpg\n",
            "Saved denoised image: /content/drive/MyDrive/submission/00/TEST_113.jpg\n",
            "Saved denoised image: /content/drive/MyDrive/submission/00/TEST_088.jpg\n",
            "Saved denoised image: /content/drive/MyDrive/submission/00/TEST_042.jpg\n",
            "Saved denoised image: /content/drive/MyDrive/submission/00/TEST_056.jpg\n",
            "Saved denoised image: /content/drive/MyDrive/submission/00/TEST_057.jpg\n",
            "Saved denoised image: /content/drive/MyDrive/submission/00/TEST_090.jpg\n",
            "Saved denoised image: /content/drive/MyDrive/submission/00/TEST_127.jpg\n",
            "Saved denoised image: /content/drive/MyDrive/submission/00/TEST_047.jpg\n",
            "Saved denoised image: /content/drive/MyDrive/submission/00/TEST_126.jpg\n",
            "Saved denoised image: /content/drive/MyDrive/submission/00/TEST_052.jpg\n",
            "Saved denoised image: /content/drive/MyDrive/submission/00/TEST_046.jpg\n",
            "Saved denoised image: /content/drive/MyDrive/submission/00/TEST_132.jpg\n",
            "Saved denoised image: /content/drive/MyDrive/submission/00/TEST_093.jpg\n",
            "Saved denoised image: /content/drive/MyDrive/submission/00/TEST_087.jpg\n",
            "Saved denoised image: /content/drive/MyDrive/submission/00/TEST_085.jpg\n",
            "Saved denoised image: /content/drive/MyDrive/submission/00/TEST_053.jpg\n",
            "Saved denoised image: /content/drive/MyDrive/submission/00/TEST_118.jpg\n",
            "Saved denoised image: /content/drive/MyDrive/submission/00/TEST_125.jpg\n",
            "Saved denoised image: /content/drive/MyDrive/submission/00/TEST_078.jpg\n",
            "Saved denoised image: /content/drive/MyDrive/submission/00/TEST_051.jpg\n",
            "Saved denoised image: /content/drive/MyDrive/submission/00/TEST_131.jpg\n",
            "Saved denoised image: /content/drive/MyDrive/submission/00/TEST_130.jpg\n",
            "Saved denoised image: /content/drive/MyDrive/submission/00/TEST_124.jpg\n",
            "Saved denoised image: /content/drive/MyDrive/submission/00/TEST_045.jpg\n",
            "Saved denoised image: /content/drive/MyDrive/submission/00/TEST_119.jpg\n",
            "Saved denoised image: /content/drive/MyDrive/submission/00/TEST_079.jpg\n",
            "Saved denoised image: /content/drive/MyDrive/submission/00/TEST_044.jpg\n",
            "Saved denoised image: /content/drive/MyDrive/submission/00/TEST_050.jpg\n",
            "Saved denoised image: /content/drive/MyDrive/submission/00/TEST_091.jpg\n",
            "Saved denoised image: /content/drive/MyDrive/submission/00/TEST_133.jpg\n",
            "Saved denoised image: /content/drive/MyDrive/submission/00/TEST_179.jpg\n",
            "Saved denoised image: /content/drive/MyDrive/submission/00/TEST_033.jpg\n",
            "Saved denoised image: /content/drive/MyDrive/submission/00/TEST_147.jpg\n",
            "Saved denoised image: /content/drive/MyDrive/submission/00/TEST_146.jpg\n",
            "Saved denoised image: /content/drive/MyDrive/submission/00/TEST_153.jpg\n",
            "Saved denoised image: /content/drive/MyDrive/submission/00/TEST_185.jpg\n",
            "Saved denoised image: /content/drive/MyDrive/submission/00/TEST_191.jpg\n",
            "Saved denoised image: /content/drive/MyDrive/submission/00/TEST_026.jpg\n",
            "Saved denoised image: /content/drive/MyDrive/submission/00/TEST_082.jpg\n",
            "Saved denoised image: /content/drive/MyDrive/submission/00/TEST_055.jpg\n",
            "Saved denoised image: /content/drive/MyDrive/submission/00/TEST_041.jpg\n",
            "Saved denoised image: /content/drive/MyDrive/submission/00/TEST_096.jpg\n",
            "Saved denoised image: /content/drive/MyDrive/submission/00/TEST_152.jpg\n",
            "Saved denoised image: /content/drive/MyDrive/submission/00/TEST_032.jpg\n",
            "Saved denoised image: /content/drive/MyDrive/submission/00/TEST_069.jpg\n",
            "Saved denoised image: /content/drive/MyDrive/submission/00/TEST_109.jpg\n",
            "Saved denoised image: /content/drive/MyDrive/submission/00/TEST_095.jpg\n",
            "Saved denoised image: /content/drive/MyDrive/submission/00/TEST_068.jpg\n",
            "Saved denoised image: /content/drive/MyDrive/submission/00/TEST_054.jpg\n",
            "Saved denoised image: /content/drive/MyDrive/submission/00/TEST_120.jpg\n",
            "Saved denoised image: /content/drive/MyDrive/submission/00/TEST_097.jpg\n",
            "Saved denoised image: /content/drive/MyDrive/submission/00/TEST_108.jpg\n",
            "Saved denoised image: /content/drive/MyDrive/submission/00/TEST_083.jpg\n",
            "Saved denoised image: /content/drive/MyDrive/submission/00/TEST_081.jpg\n",
            "Saved denoised image: /content/drive/MyDrive/submission/00/TEST_084.jpg\n",
            "Saved denoised image: /content/drive/MyDrive/submission/00/TEST_043.jpg\n",
            "Saved denoised image: /content/drive/MyDrive/submission/00/TEST_094.jpg\n",
            "Saved denoised image: /content/drive/MyDrive/submission/00/TEST_137.jpg\n",
            "Saved denoised image: /content/drive/MyDrive/submission/00/TEST_123.jpg\n",
            "Saved denoised image: /content/drive/MyDrive/submission/00/TEST_080.jpg\n",
            "Saved denoised image: /content/drive/MyDrive/submission/00/TEST_122.jpg\n",
            "Saved denoised image: /content/drive/MyDrive/submission/00/TEST_040.jpg\n",
            "Saved denoised image: /content/drive/MyDrive/submission/00/TEST_135.jpg\n",
            "Saved denoised image: /content/drive/MyDrive/submission/00/TEST_134.jpg\n",
            "Saved denoised image: /content/drive/MyDrive/submission/00/TEST_136.jpg\n",
            "Saved denoised image: /content/drive/MyDrive/submission/00/TEST_121.jpg\n",
            "Saved denoised image: /content/drive/MyDrive/submission/00/TEST_195.jpg\n",
            "Saved denoised image: /content/drive/MyDrive/submission/00/TEST_180.jpg\n",
            "Saved denoised image: /content/drive/MyDrive/submission/00/TEST_196.jpg\n",
            "Saved denoised image: /content/drive/MyDrive/submission/00/TEST_021.jpg\n",
            "Saved denoised image: /content/drive/MyDrive/submission/00/TEST_035.jpg\n",
            "Saved denoised image: /content/drive/MyDrive/submission/00/TEST_182.jpg\n",
            "Saved denoised image: /content/drive/MyDrive/submission/00/TEST_155.jpg\n",
            "Saved denoised image: /content/drive/MyDrive/submission/00/TEST_141.jpg\n",
            "Saved denoised image: /content/drive/MyDrive/submission/00/TEST_168.jpg\n",
            "Saved denoised image: /content/drive/MyDrive/submission/00/TEST_140.jpg\n",
            "Saved denoised image: /content/drive/MyDrive/submission/00/TEST_183.jpg\n",
            "Saved denoised image: /content/drive/MyDrive/submission/00/TEST_154.jpg\n",
            "Saved denoised image: /content/drive/MyDrive/submission/00/TEST_009.jpg\n",
            "Saved denoised image: /content/drive/MyDrive/submission/00/TEST_169.jpg\n",
            "Saved denoised image: /content/drive/MyDrive/submission/00/TEST_197.jpg\n",
            "Saved denoised image: /content/drive/MyDrive/submission/00/TEST_020.jpg\n",
            "Saved denoised image: /content/drive/MyDrive/submission/00/TEST_151.jpg\n",
            "Saved denoised image: /content/drive/MyDrive/submission/00/TEST_034.jpg\n",
            "Saved denoised image: /content/drive/MyDrive/submission/00/TEST_193.jpg\n",
            "Saved denoised image: /content/drive/MyDrive/submission/00/TEST_145.jpg\n",
            "Saved denoised image: /content/drive/MyDrive/submission/00/TEST_186.jpg\n",
            "Saved denoised image: /content/drive/MyDrive/submission/00/TEST_190.jpg\n",
            "Saved denoised image: /content/drive/MyDrive/submission/00/TEST_025.jpg\n",
            "Saved denoised image: /content/drive/MyDrive/submission/00/TEST_019.jpg\n",
            "Saved denoised image: /content/drive/MyDrive/submission/00/TEST_192.jpg\n",
            "Saved denoised image: /content/drive/MyDrive/submission/00/TEST_027.jpg\n",
            "Saved denoised image: /content/drive/MyDrive/submission/00/TEST_184.jpg\n",
            "Saved denoised image: /content/drive/MyDrive/submission/00/TEST_031.jpg\n",
            "Saved denoised image: /content/drive/MyDrive/submission/00/TEST_008.jpg\n",
            "Saved denoised image: /content/drive/MyDrive/submission/00/TEST_030.jpg\n",
            "Saved denoised image: /content/drive/MyDrive/submission/00/TEST_024.jpg\n",
            "Saved denoised image: /content/drive/MyDrive/submission/00/TEST_018.jpg\n",
            "Saved denoised image: /content/drive/MyDrive/submission/00/TEST_187.jpg\n",
            "Saved denoised image: /content/drive/MyDrive/submission/00/TEST_178.jpg\n",
            "Saved denoised image: /content/drive/MyDrive/submission/00/TEST_144.jpg\n",
            "Saved denoised image: /content/drive/MyDrive/submission/00/TEST_150.jpg\n",
            "Saved denoised image: /content/drive/MyDrive/submission/00/TEST_208.jpg\n",
            "Saved denoised image: /content/drive/MyDrive/submission/00/TEST_157.jpg\n",
            "Saved denoised image: /content/drive/MyDrive/submission/00/TEST_143.jpg\n",
            "Saved denoised image: /content/drive/MyDrive/submission/00/TEST_194.jpg\n",
            "Saved denoised image: /content/drive/MyDrive/submission/00/TEST_209.jpg\n",
            "Saved denoised image: /content/drive/MyDrive/submission/00/TEST_023.jpg\n",
            "Saved denoised image: /content/drive/MyDrive/submission/00/TEST_156.jpg\n",
            "Saved denoised image: /content/drive/MyDrive/submission/00/TEST_037.jpg\n",
            "Saved denoised image: /content/drive/MyDrive/submission/00/TEST_181.jpg\n",
            "Saved denoised image: /content/drive/MyDrive/submission/00/TEST_142.jpg\n",
            "Saved denoised image: /content/drive/MyDrive/submission/00/TEST_036.jpg\n",
            "Saved denoised image: /content/drive/MyDrive/submission/00/TEST_022.jpg\n",
            "1epoch 모델 저장 완료\n"
          ]
        }
      ]
    },
    {
      "cell_type": "code",
      "source": [
        "!nvidia-smi"
      ],
      "metadata": {
        "colab": {
          "base_uri": "https://localhost:8080/"
        },
        "id": "nmZ5lFbuiy5M",
        "outputId": "be22d86b-3805-4bb2-ffd2-1640c4752d76"
      },
      "execution_count": null,
      "outputs": [
        {
          "output_type": "stream",
          "name": "stdout",
          "text": [
            "Sat Nov  2 15:43:00 2024       \n",
            "+---------------------------------------------------------------------------------------+\n",
            "| NVIDIA-SMI 535.104.05             Driver Version: 535.104.05   CUDA Version: 12.2     |\n",
            "|-----------------------------------------+----------------------+----------------------+\n",
            "| GPU  Name                 Persistence-M | Bus-Id        Disp.A | Volatile Uncorr. ECC |\n",
            "| Fan  Temp   Perf          Pwr:Usage/Cap |         Memory-Usage | GPU-Util  Compute M. |\n",
            "|                                         |                      |               MIG M. |\n",
            "|=========================================+======================+======================|\n",
            "|   0  NVIDIA A100-SXM4-40GB          Off | 00000000:00:04.0 Off |                    0 |\n",
            "| N/A   31C    P0              51W / 400W |  19273MiB / 40960MiB |      0%      Default |\n",
            "|                                         |                      |             Disabled |\n",
            "+-----------------------------------------+----------------------+----------------------+\n",
            "                                                                                         \n",
            "+---------------------------------------------------------------------------------------+\n",
            "| Processes:                                                                            |\n",
            "|  GPU   GI   CI        PID   Type   Process name                            GPU Memory |\n",
            "|        ID   ID                                                             Usage      |\n",
            "|=======================================================================================|\n",
            "+---------------------------------------------------------------------------------------+\n"
          ]
        }
      ]
    },
    {
      "cell_type": "markdown",
      "source": [
        "# Inference"
      ],
      "metadata": {
        "id": "-5zPsZPohOEh"
      }
    },
    {
      "cell_type": "code",
      "source": [
        "class CustomDatasetTest(data.Dataset):\n",
        "    def __init__(self, noisy_image_paths, transform=None):\n",
        "        self.noisy_image_paths = [os.path.join(noisy_image_paths, x) for x in os.listdir(noisy_image_paths)]\n",
        "        self.transform = transform\n",
        "\n",
        "    def __len__(self):\n",
        "        return len(self.noisy_image_paths)\n",
        "\n",
        "    def __getitem__(self, index):\n",
        "        noisy_image_path = self.noisy_image_paths[index]\n",
        "        noisy_image = load_img(self.noisy_image_paths[index])\n",
        "\n",
        "        # Convert numpy array to PIL image\n",
        "        if isinstance(noisy_image, np.ndarray):\n",
        "            noisy_image = Image.fromarray(noisy_image)\n",
        "\n",
        "        if self.transform:\n",
        "            noisy_image = self.transform(noisy_image)\n",
        "\n",
        "        return noisy_image, noisy_image_path\n",
        "\n",
        "\n",
        "test_transform = Compose([\n",
        "    ToTensor(),\n",
        "    transforms.Normalize(mean=[0.485, 0.456, 0.406], std=[0.229, 0.224, 0.225])\n",
        "])\n",
        "\n",
        "def load_img(filepath):\n",
        "    img = cv2.imread(filepath)\n",
        "    img = cv2.cvtColor(img, cv2.COLOR_BGR2RGB)\n",
        "    return img\n",
        "\n",
        "\n",
        "# GPU 사용 여부 확인\n",
        "device = torch.device('cuda' if torch.cuda.is_available() else 'cpu')\n",
        "model.to(device)\n",
        "\n",
        "\n",
        "# 데이터셋 경로\n",
        "test_data_path = '/content/drive/MyDrive/Blur_Input'\n",
        "output_path = '/content/drive/MyDrive/submission'\n",
        "\n",
        "# 데이터셋 로드 및 전처리\n",
        "test_dataset = CustomDatasetTest(test_data_path, transform=test_transform)\n",
        "\n",
        "# 데이터 로더 설정\n",
        "test_loader = DataLoader(test_dataset, batch_size=1, shuffle=False)\n",
        "\n",
        "if not os.path.exists(output_path):\n",
        "    os.makedirs(output_path)\n",
        "\n",
        "# 이미지 denoising 및 저장\n",
        "for noisy_image, noisy_image_path in test_loader:\n",
        "    noisy_image = noisy_image.to(device)\n",
        "    denoised_image = model(noisy_image)\n",
        "\n",
        "    # denoised_image를 CPU로 이동하여 이미지 저장\n",
        "    denoised_image = denoised_image.cpu().squeeze(0)\n",
        "    denoised_image = denoised_image * torch.tensor([0.229, 0.224, 0.225]).view(-1, 1, 1).to(denoised_image.device) + torch.tensor([0.485, 0.456, 0.406]).view(-1, 1, 1).to(denoised_image.device)\n",
        "    denoised_image = denoised_image.clamp(0, 1)\n",
        "    denoised_image = transforms.ToPILImage()(denoised_image)\n",
        "\n",
        "    plt.figure(figsize=(10, 5))\n",
        "    # plt.subplot(1, 2, 1)\n",
        "    # plt.imshow(noisy_image.squeeze(0).detach().cpu().numpy().transpose(1, 2, 0))\n",
        "    # plt.title(\"Noisy Image\")\n",
        "    # plt.axis(\"off\")\n",
        "\n",
        "    # plt.subplot(1, 2, 2)\n",
        "    # plt.imshow(denoised_image)\n",
        "    # plt.title(\"Model Output\")\n",
        "    # plt.axis(\"off\")\n",
        "\n",
        "    # Save denoised image\n",
        "    output_filename = noisy_image_path[0]\n",
        "    denoised_filename = output_path + '/' + output_filename.split('/')[-1][:-4] + '.jpg'\n",
        "    denoised_image.save(denoised_filename)\n",
        "\n",
        "    print(f'Saved denoised image: {denoised_filename}')"
      ],
      "metadata": {
        "id": "EWW32LG0hPV_",
        "colab": {
          "base_uri": "https://localhost:8080/",
          "height": 1000
        },
        "outputId": "487a3f0a-84ef-4406-d661-c50d88303ed1"
      },
      "execution_count": null,
      "outputs": [
        {
          "output_type": "stream",
          "name": "stdout",
          "text": [
            "Saved denoised image: /content/drive/MyDrive/submission/TEST_210.jpg\n",
            "Saved denoised image: /content/drive/MyDrive/submission/TEST_199.jpg\n",
            "Saved denoised image: /content/drive/MyDrive/submission/TEST_166.jpg\n",
            "Saved denoised image: /content/drive/MyDrive/submission/TEST_173.jpg\n",
            "Saved denoised image: /content/drive/MyDrive/submission/TEST_167.jpg\n",
            "Saved denoised image: /content/drive/MyDrive/submission/TEST_172.jpg\n",
            "Saved denoised image: /content/drive/MyDrive/submission/TEST_211.jpg\n",
            "Saved denoised image: /content/drive/MyDrive/submission/TEST_007.jpg\n",
            "Saved denoised image: /content/drive/MyDrive/submission/TEST_013.jpg\n",
            "Saved denoised image: /content/drive/MyDrive/submission/TEST_205.jpg\n",
            "Saved denoised image: /content/drive/MyDrive/submission/TEST_198.jpg\n",
            "Saved denoised image: /content/drive/MyDrive/submission/TEST_174.jpg\n",
            "Saved denoised image: /content/drive/MyDrive/submission/TEST_160.jpg\n",
            "Saved denoised image: /content/drive/MyDrive/submission/TEST_148.jpg\n",
            "Saved denoised image: /content/drive/MyDrive/submission/TEST_029.jpg\n",
            "Saved denoised image: /content/drive/MyDrive/submission/TEST_015.jpg\n",
            "Saved denoised image: /content/drive/MyDrive/submission/TEST_175.jpg\n",
            "Saved denoised image: /content/drive/MyDrive/submission/TEST_161.jpg\n",
            "Saved denoised image: /content/drive/MyDrive/submission/TEST_149.jpg\n",
            "Saved denoised image: /content/drive/MyDrive/submission/TEST_001.jpg\n",
            "Saved denoised image: /content/drive/MyDrive/submission/TEST_203.jpg\n",
            "Saved denoised image: /content/drive/MyDrive/submission/TEST_158.jpg\n",
            "Saved denoised image: /content/drive/MyDrive/submission/TEST_170.jpg\n",
            "Saved denoised image: /content/drive/MyDrive/submission/TEST_206.jpg\n",
            "Saved denoised image: /content/drive/MyDrive/submission/TEST_004.jpg\n",
            "Saved denoised image: /content/drive/MyDrive/submission/TEST_012.jpg\n",
            "Saved denoised image: /content/drive/MyDrive/submission/TEST_006.jpg\n",
            "Saved denoised image: /content/drive/MyDrive/submission/TEST_038.jpg\n",
            "Saved denoised image: /content/drive/MyDrive/submission/TEST_204.jpg\n",
            "Saved denoised image: /content/drive/MyDrive/submission/TEST_010.jpg\n",
            "Saved denoised image: /content/drive/MyDrive/submission/TEST_011.jpg\n",
            "Saved denoised image: /content/drive/MyDrive/submission/TEST_207.jpg\n",
            "Saved denoised image: /content/drive/MyDrive/submission/TEST_039.jpg\n",
            "Saved denoised image: /content/drive/MyDrive/submission/TEST_005.jpg\n",
            "Saved denoised image: /content/drive/MyDrive/submission/TEST_171.jpg\n",
            "Saved denoised image: /content/drive/MyDrive/submission/TEST_165.jpg\n",
            "Saved denoised image: /content/drive/MyDrive/submission/TEST_164.jpg\n",
            "Saved denoised image: /content/drive/MyDrive/submission/TEST_159.jpg\n",
            "Saved denoised image: /content/drive/MyDrive/submission/TEST_110.jpg\n",
            "Saved denoised image: /content/drive/MyDrive/submission/TEST_104.jpg\n",
            "Saved denoised image: /content/drive/MyDrive/submission/TEST_138.jpg\n",
            "Saved denoised image: /content/drive/MyDrive/submission/TEST_064.jpg\n",
            "Saved denoised image: /content/drive/MyDrive/submission/TEST_070.jpg\n",
            "Saved denoised image: /content/drive/MyDrive/submission/TEST_017.jpg\n",
            "Saved denoised image: /content/drive/MyDrive/submission/TEST_003.jpg\n",
            "Saved denoised image: /content/drive/MyDrive/submission/TEST_188.jpg\n",
            "Saved denoised image: /content/drive/MyDrive/submission/TEST_201.jpg\n",
            "Saved denoised image: /content/drive/MyDrive/submission/TEST_058.jpg\n",
            "Saved denoised image: /content/drive/MyDrive/submission/TEST_028.jpg\n",
            "Saved denoised image: /content/drive/MyDrive/submission/TEST_163.jpg\n",
            "Saved denoised image: /content/drive/MyDrive/submission/TEST_016.jpg\n",
            "Saved denoised image: /content/drive/MyDrive/submission/TEST_014.jpg\n",
            "Saved denoised image: /content/drive/MyDrive/submission/TEST_000.jpg\n",
            "Saved denoised image: /content/drive/MyDrive/submission/TEST_202.jpg\n",
            "Saved denoised image: /content/drive/MyDrive/submission/TEST_162.jpg\n",
            "Saved denoised image: /content/drive/MyDrive/submission/TEST_189.jpg\n",
            "Saved denoised image: /content/drive/MyDrive/submission/TEST_200.jpg\n",
            "Saved denoised image: /content/drive/MyDrive/submission/TEST_002.jpg\n",
            "Saved denoised image: /content/drive/MyDrive/submission/TEST_177.jpg\n",
            "Saved denoised image: /content/drive/MyDrive/submission/TEST_176.jpg\n",
            "Saved denoised image: /content/drive/MyDrive/submission/TEST_088.jpg\n",
            "Saved denoised image: /content/drive/MyDrive/submission/TEST_116.jpg\n",
            "Saved denoised image: /content/drive/MyDrive/submission/TEST_076.jpg\n",
            "Saved denoised image: /content/drive/MyDrive/submission/TEST_062.jpg\n",
            "Saved denoised image: /content/drive/MyDrive/submission/TEST_099.jpg\n",
            "Saved denoised image: /content/drive/MyDrive/submission/TEST_089.jpg\n",
            "Saved denoised image: /content/drive/MyDrive/submission/TEST_072.jpg\n",
            "Saved denoised image: /content/drive/MyDrive/submission/TEST_112.jpg\n",
            "Saved denoised image: /content/drive/MyDrive/submission/TEST_107.jpg\n",
            "Saved denoised image: /content/drive/MyDrive/submission/TEST_106.jpg\n",
            "Saved denoised image: /content/drive/MyDrive/submission/TEST_066.jpg\n",
            "Saved denoised image: /content/drive/MyDrive/submission/TEST_113.jpg\n",
            "Saved denoised image: /content/drive/MyDrive/submission/TEST_105.jpg\n",
            "Saved denoised image: /content/drive/MyDrive/submission/TEST_111.jpg\n",
            "Saved denoised image: /content/drive/MyDrive/submission/TEST_065.jpg\n",
            "Saved denoised image: /content/drive/MyDrive/submission/TEST_067.jpg\n",
            "Saved denoised image: /content/drive/MyDrive/submission/TEST_059.jpg\n",
            "Saved denoised image: /content/drive/MyDrive/submission/TEST_139.jpg\n",
            "Saved denoised image: /content/drive/MyDrive/submission/TEST_098.jpg\n",
            "Saved denoised image: /content/drive/MyDrive/submission/TEST_071.jpg\n",
            "Saved denoised image: /content/drive/MyDrive/submission/TEST_073.jpg\n",
            "Saved denoised image: /content/drive/MyDrive/submission/TEST_124.jpg\n",
            "Saved denoised image: /content/drive/MyDrive/submission/TEST_130.jpg\n",
            "Saved denoised image: /content/drive/MyDrive/submission/TEST_045.jpg\n",
            "Saved denoised image: /content/drive/MyDrive/submission/TEST_051.jpg\n",
            "Saved denoised image: /content/drive/MyDrive/submission/TEST_125.jpg\n",
            "Saved denoised image: /content/drive/MyDrive/submission/TEST_119.jpg\n",
            "Saved denoised image: /content/drive/MyDrive/submission/TEST_079.jpg\n",
            "Saved denoised image: /content/drive/MyDrive/submission/TEST_131.jpg\n",
            "Saved denoised image: /content/drive/MyDrive/submission/TEST_086.jpg\n",
            "Saved denoised image: /content/drive/MyDrive/submission/TEST_092.jpg\n",
            "Saved denoised image: /content/drive/MyDrive/submission/TEST_114.jpg\n",
            "Saved denoised image: /content/drive/MyDrive/submission/TEST_074.jpg\n",
            "Saved denoised image: /content/drive/MyDrive/submission/TEST_048.jpg\n",
            "Saved denoised image: /content/drive/MyDrive/submission/TEST_128.jpg\n",
            "Saved denoised image: /content/drive/MyDrive/submission/TEST_129.jpg\n",
            "Saved denoised image: /content/drive/MyDrive/submission/TEST_115.jpg\n",
            "Saved denoised image: /content/drive/MyDrive/submission/TEST_060.jpg\n",
            "Saved denoised image: /content/drive/MyDrive/submission/TEST_049.jpg\n",
            "Saved denoised image: /content/drive/MyDrive/submission/TEST_101.jpg\n",
            "Saved denoised image: /content/drive/MyDrive/submission/TEST_100.jpg\n",
            "Saved denoised image: /content/drive/MyDrive/submission/TEST_117.jpg\n",
            "Saved denoised image: /content/drive/MyDrive/submission/TEST_061.jpg\n",
            "Saved denoised image: /content/drive/MyDrive/submission/TEST_077.jpg\n",
            "Saved denoised image: /content/drive/MyDrive/submission/TEST_075.jpg\n",
            "Saved denoised image: /content/drive/MyDrive/submission/TEST_103.jpg\n",
            "Saved denoised image: /content/drive/MyDrive/submission/TEST_102.jpg\n",
            "Saved denoised image: /content/drive/MyDrive/submission/TEST_063.jpg\n",
            "Saved denoised image: /content/drive/MyDrive/submission/TEST_043.jpg\n",
            "Saved denoised image: /content/drive/MyDrive/submission/TEST_057.jpg\n",
            "Saved denoised image: /content/drive/MyDrive/submission/TEST_094.jpg\n",
            "Saved denoised image: /content/drive/MyDrive/submission/TEST_080.jpg\n",
            "Saved denoised image: /content/drive/MyDrive/submission/TEST_090.jpg\n",
            "Saved denoised image: /content/drive/MyDrive/submission/TEST_047.jpg\n",
            "Saved denoised image: /content/drive/MyDrive/submission/TEST_053.jpg\n",
            "Saved denoised image: /content/drive/MyDrive/submission/TEST_127.jpg\n",
            "Saved denoised image: /content/drive/MyDrive/submission/TEST_133.jpg\n",
            "Saved denoised image: /content/drive/MyDrive/submission/TEST_084.jpg\n",
            "Saved denoised image: /content/drive/MyDrive/submission/TEST_126.jpg\n",
            "Saved denoised image: /content/drive/MyDrive/submission/TEST_085.jpg\n",
            "Saved denoised image: /content/drive/MyDrive/submission/TEST_093.jpg\n",
            "Saved denoised image: /content/drive/MyDrive/submission/TEST_091.jpg\n",
            "Saved denoised image: /content/drive/MyDrive/submission/TEST_046.jpg\n",
            "Saved denoised image: /content/drive/MyDrive/submission/TEST_078.jpg\n",
            "Saved denoised image: /content/drive/MyDrive/submission/TEST_087.jpg\n",
            "Saved denoised image: /content/drive/MyDrive/submission/TEST_052.jpg\n",
            "Saved denoised image: /content/drive/MyDrive/submission/TEST_050.jpg\n",
            "Saved denoised image: /content/drive/MyDrive/submission/TEST_132.jpg\n",
            "Saved denoised image: /content/drive/MyDrive/submission/TEST_044.jpg\n",
            "Saved denoised image: /content/drive/MyDrive/submission/TEST_118.jpg\n",
            "Saved denoised image: /content/drive/MyDrive/submission/TEST_026.jpg\n",
            "Saved denoised image: /content/drive/MyDrive/submission/TEST_069.jpg\n",
            "Saved denoised image: /content/drive/MyDrive/submission/TEST_121.jpg\n",
            "Saved denoised image: /content/drive/MyDrive/submission/TEST_135.jpg\n",
            "Saved denoised image: /content/drive/MyDrive/submission/TEST_109.jpg\n",
            "Saved denoised image: /content/drive/MyDrive/submission/TEST_134.jpg\n",
            "Saved denoised image: /content/drive/MyDrive/submission/TEST_068.jpg\n",
            "Saved denoised image: /content/drive/MyDrive/submission/TEST_120.jpg\n",
            "Saved denoised image: /content/drive/MyDrive/submission/TEST_040.jpg\n",
            "Saved denoised image: /content/drive/MyDrive/submission/TEST_054.jpg\n",
            "Saved denoised image: /content/drive/MyDrive/submission/TEST_108.jpg\n",
            "Saved denoised image: /content/drive/MyDrive/submission/TEST_042.jpg\n",
            "Saved denoised image: /content/drive/MyDrive/submission/TEST_136.jpg\n",
            "Saved denoised image: /content/drive/MyDrive/submission/TEST_123.jpg\n",
            "Saved denoised image: /content/drive/MyDrive/submission/TEST_122.jpg\n",
            "Saved denoised image: /content/drive/MyDrive/submission/TEST_095.jpg\n",
            "Saved denoised image: /content/drive/MyDrive/submission/TEST_056.jpg\n",
            "Saved denoised image: /content/drive/MyDrive/submission/TEST_081.jpg\n",
            "Saved denoised image: /content/drive/MyDrive/submission/TEST_137.jpg\n",
            "Saved denoised image: /content/drive/MyDrive/submission/TEST_097.jpg\n",
            "Saved denoised image: /content/drive/MyDrive/submission/TEST_083.jpg\n",
            "Saved denoised image: /content/drive/MyDrive/submission/TEST_178.jpg\n",
            "Saved denoised image: /content/drive/MyDrive/submission/TEST_187.jpg\n",
            "Saved denoised image: /content/drive/MyDrive/submission/TEST_150.jpg\n",
            "Saved denoised image: /content/drive/MyDrive/submission/TEST_179.jpg\n",
            "Saved denoised image: /content/drive/MyDrive/submission/TEST_151.jpg\n",
            "Saved denoised image: /content/drive/MyDrive/submission/TEST_145.jpg\n",
            "Saved denoised image: /content/drive/MyDrive/submission/TEST_186.jpg\n",
            "Saved denoised image: /content/drive/MyDrive/submission/TEST_144.jpg\n",
            "Saved denoised image: /content/drive/MyDrive/submission/TEST_192.jpg\n",
            "Saved denoised image: /content/drive/MyDrive/submission/TEST_031.jpg\n",
            "Saved denoised image: /content/drive/MyDrive/submission/TEST_019.jpg\n",
            "Saved denoised image: /content/drive/MyDrive/submission/TEST_025.jpg\n",
            "Saved denoised image: /content/drive/MyDrive/submission/TEST_190.jpg\n",
            "Saved denoised image: /content/drive/MyDrive/submission/TEST_153.jpg\n",
            "Saved denoised image: /content/drive/MyDrive/submission/TEST_027.jpg\n",
            "Saved denoised image: /content/drive/MyDrive/submission/TEST_147.jpg\n",
            "Saved denoised image: /content/drive/MyDrive/submission/TEST_184.jpg\n",
            "Saved denoised image: /content/drive/MyDrive/submission/TEST_152.jpg\n",
            "Saved denoised image: /content/drive/MyDrive/submission/TEST_146.jpg\n",
            "Saved denoised image: /content/drive/MyDrive/submission/TEST_185.jpg\n",
            "Saved denoised image: /content/drive/MyDrive/submission/TEST_082.jpg\n",
            "Saved denoised image: /content/drive/MyDrive/submission/TEST_096.jpg\n",
            "Saved denoised image: /content/drive/MyDrive/submission/TEST_032.jpg\n",
            "Saved denoised image: /content/drive/MyDrive/submission/TEST_055.jpg\n",
            "Saved denoised image: /content/drive/MyDrive/submission/TEST_191.jpg\n",
            "Saved denoised image: /content/drive/MyDrive/submission/TEST_041.jpg\n",
            "Saved denoised image: /content/drive/MyDrive/submission/TEST_033.jpg\n",
            "Saved denoised image: /content/drive/MyDrive/submission/TEST_209.jpg\n",
            "Saved denoised image: /content/drive/MyDrive/submission/TEST_021.jpg\n",
            "Saved denoised image: /content/drive/MyDrive/submission/TEST_035.jpg\n",
            "Saved denoised image: /content/drive/MyDrive/submission/TEST_155.jpg\n",
            "Saved denoised image: /content/drive/MyDrive/submission/TEST_196.jpg\n",
            "Saved denoised image: /content/drive/MyDrive/submission/TEST_141.jpg\n",
            "Saved denoised image: /content/drive/MyDrive/submission/TEST_169.jpg\n",
            "Saved denoised image: /content/drive/MyDrive/submission/TEST_182.jpg\n",
            "Saved denoised image: /content/drive/MyDrive/submission/TEST_009.jpg\n",
            "Saved denoised image: /content/drive/MyDrive/submission/TEST_168.jpg\n",
            "Saved denoised image: /content/drive/MyDrive/submission/TEST_140.jpg\n",
            "Saved denoised image: /content/drive/MyDrive/submission/TEST_197.jpg\n",
            "Saved denoised image: /content/drive/MyDrive/submission/TEST_193.jpg\n",
            "Saved denoised image: /content/drive/MyDrive/submission/TEST_154.jpg\n",
            "Saved denoised image: /content/drive/MyDrive/submission/TEST_183.jpg\n",
            "Saved denoised image: /content/drive/MyDrive/submission/TEST_020.jpg\n",
            "Saved denoised image: /content/drive/MyDrive/submission/TEST_024.jpg\n",
            "Saved denoised image: /content/drive/MyDrive/submission/TEST_018.jpg\n",
            "Saved denoised image: /content/drive/MyDrive/submission/TEST_034.jpg\n",
            "Saved denoised image: /content/drive/MyDrive/submission/TEST_008.jpg\n",
            "Saved denoised image: /content/drive/MyDrive/submission/TEST_030.jpg\n",
            "Saved denoised image: /content/drive/MyDrive/submission/TEST_181.jpg\n",
            "Saved denoised image: /content/drive/MyDrive/submission/TEST_156.jpg\n",
            "Saved denoised image: /content/drive/MyDrive/submission/TEST_037.jpg\n",
            "Saved denoised image: /content/drive/MyDrive/submission/TEST_195.jpg\n",
            "Saved denoised image: /content/drive/MyDrive/submission/TEST_180.jpg\n",
            "Saved denoised image: /content/drive/MyDrive/submission/TEST_157.jpg\n",
            "Saved denoised image: /content/drive/MyDrive/submission/TEST_023.jpg\n",
            "Saved denoised image: /content/drive/MyDrive/submission/TEST_143.jpg\n",
            "Saved denoised image: /content/drive/MyDrive/submission/TEST_194.jpg\n",
            "Saved denoised image: /content/drive/MyDrive/submission/TEST_142.jpg\n",
            "Saved denoised image: /content/drive/MyDrive/submission/TEST_022.jpg\n",
            "Saved denoised image: /content/drive/MyDrive/submission/TEST_208.jpg\n",
            "Saved denoised image: /content/drive/MyDrive/submission/TEST_036.jpg\n"
          ]
        },
        {
          "output_type": "display_data",
          "data": {
            "text/plain": [
              "<Figure size 1000x500 with 0 Axes>"
            ]
          },
          "metadata": {}
        },
        {
          "output_type": "display_data",
          "data": {
            "text/plain": [
              "<Figure size 1000x500 with 0 Axes>"
            ]
          },
          "metadata": {}
        },
        {
          "output_type": "display_data",
          "data": {
            "text/plain": [
              "<Figure size 1000x500 with 0 Axes>"
            ]
          },
          "metadata": {}
        },
        {
          "output_type": "display_data",
          "data": {
            "text/plain": [
              "<Figure size 1000x500 with 0 Axes>"
            ]
          },
          "metadata": {}
        },
        {
          "output_type": "display_data",
          "data": {
            "text/plain": [
              "<Figure size 1000x500 with 0 Axes>"
            ]
          },
          "metadata": {}
        },
        {
          "output_type": "display_data",
          "data": {
            "text/plain": [
              "<Figure size 1000x500 with 0 Axes>"
            ]
          },
          "metadata": {}
        },
        {
          "output_type": "display_data",
          "data": {
            "text/plain": [
              "<Figure size 1000x500 with 0 Axes>"
            ]
          },
          "metadata": {}
        },
        {
          "output_type": "display_data",
          "data": {
            "text/plain": [
              "<Figure size 1000x500 with 0 Axes>"
            ]
          },
          "metadata": {}
        },
        {
          "output_type": "display_data",
          "data": {
            "text/plain": [
              "<Figure size 1000x500 with 0 Axes>"
            ]
          },
          "metadata": {}
        },
        {
          "output_type": "display_data",
          "data": {
            "text/plain": [
              "<Figure size 1000x500 with 0 Axes>"
            ]
          },
          "metadata": {}
        },
        {
          "output_type": "display_data",
          "data": {
            "text/plain": [
              "<Figure size 1000x500 with 0 Axes>"
            ]
          },
          "metadata": {}
        },
        {
          "output_type": "display_data",
          "data": {
            "text/plain": [
              "<Figure size 1000x500 with 0 Axes>"
            ]
          },
          "metadata": {}
        },
        {
          "output_type": "display_data",
          "data": {
            "text/plain": [
              "<Figure size 1000x500 with 0 Axes>"
            ]
          },
          "metadata": {}
        },
        {
          "output_type": "display_data",
          "data": {
            "text/plain": [
              "<Figure size 1000x500 with 0 Axes>"
            ]
          },
          "metadata": {}
        },
        {
          "output_type": "display_data",
          "data": {
            "text/plain": [
              "<Figure size 1000x500 with 0 Axes>"
            ]
          },
          "metadata": {}
        },
        {
          "output_type": "display_data",
          "data": {
            "text/plain": [
              "<Figure size 1000x500 with 0 Axes>"
            ]
          },
          "metadata": {}
        },
        {
          "output_type": "display_data",
          "data": {
            "text/plain": [
              "<Figure size 1000x500 with 0 Axes>"
            ]
          },
          "metadata": {}
        },
        {
          "output_type": "display_data",
          "data": {
            "text/plain": [
              "<Figure size 1000x500 with 0 Axes>"
            ]
          },
          "metadata": {}
        },
        {
          "output_type": "display_data",
          "data": {
            "text/plain": [
              "<Figure size 1000x500 with 0 Axes>"
            ]
          },
          "metadata": {}
        },
        {
          "output_type": "display_data",
          "data": {
            "text/plain": [
              "<Figure size 1000x500 with 0 Axes>"
            ]
          },
          "metadata": {}
        },
        {
          "output_type": "display_data",
          "data": {
            "text/plain": [
              "<Figure size 1000x500 with 0 Axes>"
            ]
          },
          "metadata": {}
        },
        {
          "output_type": "display_data",
          "data": {
            "text/plain": [
              "<Figure size 1000x500 with 0 Axes>"
            ]
          },
          "metadata": {}
        },
        {
          "output_type": "display_data",
          "data": {
            "text/plain": [
              "<Figure size 1000x500 with 0 Axes>"
            ]
          },
          "metadata": {}
        },
        {
          "output_type": "display_data",
          "data": {
            "text/plain": [
              "<Figure size 1000x500 with 0 Axes>"
            ]
          },
          "metadata": {}
        },
        {
          "output_type": "display_data",
          "data": {
            "text/plain": [
              "<Figure size 1000x500 with 0 Axes>"
            ]
          },
          "metadata": {}
        },
        {
          "output_type": "display_data",
          "data": {
            "text/plain": [
              "<Figure size 1000x500 with 0 Axes>"
            ]
          },
          "metadata": {}
        },
        {
          "output_type": "display_data",
          "data": {
            "text/plain": [
              "<Figure size 1000x500 with 0 Axes>"
            ]
          },
          "metadata": {}
        },
        {
          "output_type": "display_data",
          "data": {
            "text/plain": [
              "<Figure size 1000x500 with 0 Axes>"
            ]
          },
          "metadata": {}
        },
        {
          "output_type": "display_data",
          "data": {
            "text/plain": [
              "<Figure size 1000x500 with 0 Axes>"
            ]
          },
          "metadata": {}
        },
        {
          "output_type": "display_data",
          "data": {
            "text/plain": [
              "<Figure size 1000x500 with 0 Axes>"
            ]
          },
          "metadata": {}
        },
        {
          "output_type": "display_data",
          "data": {
            "text/plain": [
              "<Figure size 1000x500 with 0 Axes>"
            ]
          },
          "metadata": {}
        },
        {
          "output_type": "display_data",
          "data": {
            "text/plain": [
              "<Figure size 1000x500 with 0 Axes>"
            ]
          },
          "metadata": {}
        },
        {
          "output_type": "display_data",
          "data": {
            "text/plain": [
              "<Figure size 1000x500 with 0 Axes>"
            ]
          },
          "metadata": {}
        },
        {
          "output_type": "display_data",
          "data": {
            "text/plain": [
              "<Figure size 1000x500 with 0 Axes>"
            ]
          },
          "metadata": {}
        },
        {
          "output_type": "display_data",
          "data": {
            "text/plain": [
              "<Figure size 1000x500 with 0 Axes>"
            ]
          },
          "metadata": {}
        },
        {
          "output_type": "display_data",
          "data": {
            "text/plain": [
              "<Figure size 1000x500 with 0 Axes>"
            ]
          },
          "metadata": {}
        },
        {
          "output_type": "display_data",
          "data": {
            "text/plain": [
              "<Figure size 1000x500 with 0 Axes>"
            ]
          },
          "metadata": {}
        },
        {
          "output_type": "display_data",
          "data": {
            "text/plain": [
              "<Figure size 1000x500 with 0 Axes>"
            ]
          },
          "metadata": {}
        },
        {
          "output_type": "display_data",
          "data": {
            "text/plain": [
              "<Figure size 1000x500 with 0 Axes>"
            ]
          },
          "metadata": {}
        },
        {
          "output_type": "display_data",
          "data": {
            "text/plain": [
              "<Figure size 1000x500 with 0 Axes>"
            ]
          },
          "metadata": {}
        },
        {
          "output_type": "display_data",
          "data": {
            "text/plain": [
              "<Figure size 1000x500 with 0 Axes>"
            ]
          },
          "metadata": {}
        },
        {
          "output_type": "display_data",
          "data": {
            "text/plain": [
              "<Figure size 1000x500 with 0 Axes>"
            ]
          },
          "metadata": {}
        },
        {
          "output_type": "display_data",
          "data": {
            "text/plain": [
              "<Figure size 1000x500 with 0 Axes>"
            ]
          },
          "metadata": {}
        },
        {
          "output_type": "display_data",
          "data": {
            "text/plain": [
              "<Figure size 1000x500 with 0 Axes>"
            ]
          },
          "metadata": {}
        },
        {
          "output_type": "display_data",
          "data": {
            "text/plain": [
              "<Figure size 1000x500 with 0 Axes>"
            ]
          },
          "metadata": {}
        },
        {
          "output_type": "display_data",
          "data": {
            "text/plain": [
              "<Figure size 1000x500 with 0 Axes>"
            ]
          },
          "metadata": {}
        },
        {
          "output_type": "display_data",
          "data": {
            "text/plain": [
              "<Figure size 1000x500 with 0 Axes>"
            ]
          },
          "metadata": {}
        },
        {
          "output_type": "display_data",
          "data": {
            "text/plain": [
              "<Figure size 1000x500 with 0 Axes>"
            ]
          },
          "metadata": {}
        },
        {
          "output_type": "display_data",
          "data": {
            "text/plain": [
              "<Figure size 1000x500 with 0 Axes>"
            ]
          },
          "metadata": {}
        },
        {
          "output_type": "display_data",
          "data": {
            "text/plain": [
              "<Figure size 1000x500 with 0 Axes>"
            ]
          },
          "metadata": {}
        },
        {
          "output_type": "display_data",
          "data": {
            "text/plain": [
              "<Figure size 1000x500 with 0 Axes>"
            ]
          },
          "metadata": {}
        },
        {
          "output_type": "display_data",
          "data": {
            "text/plain": [
              "<Figure size 1000x500 with 0 Axes>"
            ]
          },
          "metadata": {}
        },
        {
          "output_type": "display_data",
          "data": {
            "text/plain": [
              "<Figure size 1000x500 with 0 Axes>"
            ]
          },
          "metadata": {}
        },
        {
          "output_type": "display_data",
          "data": {
            "text/plain": [
              "<Figure size 1000x500 with 0 Axes>"
            ]
          },
          "metadata": {}
        },
        {
          "output_type": "display_data",
          "data": {
            "text/plain": [
              "<Figure size 1000x500 with 0 Axes>"
            ]
          },
          "metadata": {}
        },
        {
          "output_type": "display_data",
          "data": {
            "text/plain": [
              "<Figure size 1000x500 with 0 Axes>"
            ]
          },
          "metadata": {}
        },
        {
          "output_type": "display_data",
          "data": {
            "text/plain": [
              "<Figure size 1000x500 with 0 Axes>"
            ]
          },
          "metadata": {}
        },
        {
          "output_type": "display_data",
          "data": {
            "text/plain": [
              "<Figure size 1000x500 with 0 Axes>"
            ]
          },
          "metadata": {}
        },
        {
          "output_type": "display_data",
          "data": {
            "text/plain": [
              "<Figure size 1000x500 with 0 Axes>"
            ]
          },
          "metadata": {}
        },
        {
          "output_type": "display_data",
          "data": {
            "text/plain": [
              "<Figure size 1000x500 with 0 Axes>"
            ]
          },
          "metadata": {}
        },
        {
          "output_type": "display_data",
          "data": {
            "text/plain": [
              "<Figure size 1000x500 with 0 Axes>"
            ]
          },
          "metadata": {}
        },
        {
          "output_type": "display_data",
          "data": {
            "text/plain": [
              "<Figure size 1000x500 with 0 Axes>"
            ]
          },
          "metadata": {}
        },
        {
          "output_type": "display_data",
          "data": {
            "text/plain": [
              "<Figure size 1000x500 with 0 Axes>"
            ]
          },
          "metadata": {}
        },
        {
          "output_type": "display_data",
          "data": {
            "text/plain": [
              "<Figure size 1000x500 with 0 Axes>"
            ]
          },
          "metadata": {}
        },
        {
          "output_type": "display_data",
          "data": {
            "text/plain": [
              "<Figure size 1000x500 with 0 Axes>"
            ]
          },
          "metadata": {}
        },
        {
          "output_type": "display_data",
          "data": {
            "text/plain": [
              "<Figure size 1000x500 with 0 Axes>"
            ]
          },
          "metadata": {}
        },
        {
          "output_type": "display_data",
          "data": {
            "text/plain": [
              "<Figure size 1000x500 with 0 Axes>"
            ]
          },
          "metadata": {}
        },
        {
          "output_type": "display_data",
          "data": {
            "text/plain": [
              "<Figure size 1000x500 with 0 Axes>"
            ]
          },
          "metadata": {}
        },
        {
          "output_type": "display_data",
          "data": {
            "text/plain": [
              "<Figure size 1000x500 with 0 Axes>"
            ]
          },
          "metadata": {}
        },
        {
          "output_type": "display_data",
          "data": {
            "text/plain": [
              "<Figure size 1000x500 with 0 Axes>"
            ]
          },
          "metadata": {}
        },
        {
          "output_type": "display_data",
          "data": {
            "text/plain": [
              "<Figure size 1000x500 with 0 Axes>"
            ]
          },
          "metadata": {}
        },
        {
          "output_type": "display_data",
          "data": {
            "text/plain": [
              "<Figure size 1000x500 with 0 Axes>"
            ]
          },
          "metadata": {}
        },
        {
          "output_type": "display_data",
          "data": {
            "text/plain": [
              "<Figure size 1000x500 with 0 Axes>"
            ]
          },
          "metadata": {}
        },
        {
          "output_type": "display_data",
          "data": {
            "text/plain": [
              "<Figure size 1000x500 with 0 Axes>"
            ]
          },
          "metadata": {}
        },
        {
          "output_type": "display_data",
          "data": {
            "text/plain": [
              "<Figure size 1000x500 with 0 Axes>"
            ]
          },
          "metadata": {}
        },
        {
          "output_type": "display_data",
          "data": {
            "text/plain": [
              "<Figure size 1000x500 with 0 Axes>"
            ]
          },
          "metadata": {}
        },
        {
          "output_type": "display_data",
          "data": {
            "text/plain": [
              "<Figure size 1000x500 with 0 Axes>"
            ]
          },
          "metadata": {}
        },
        {
          "output_type": "display_data",
          "data": {
            "text/plain": [
              "<Figure size 1000x500 with 0 Axes>"
            ]
          },
          "metadata": {}
        },
        {
          "output_type": "display_data",
          "data": {
            "text/plain": [
              "<Figure size 1000x500 with 0 Axes>"
            ]
          },
          "metadata": {}
        },
        {
          "output_type": "display_data",
          "data": {
            "text/plain": [
              "<Figure size 1000x500 with 0 Axes>"
            ]
          },
          "metadata": {}
        },
        {
          "output_type": "display_data",
          "data": {
            "text/plain": [
              "<Figure size 1000x500 with 0 Axes>"
            ]
          },
          "metadata": {}
        },
        {
          "output_type": "display_data",
          "data": {
            "text/plain": [
              "<Figure size 1000x500 with 0 Axes>"
            ]
          },
          "metadata": {}
        },
        {
          "output_type": "display_data",
          "data": {
            "text/plain": [
              "<Figure size 1000x500 with 0 Axes>"
            ]
          },
          "metadata": {}
        },
        {
          "output_type": "display_data",
          "data": {
            "text/plain": [
              "<Figure size 1000x500 with 0 Axes>"
            ]
          },
          "metadata": {}
        },
        {
          "output_type": "display_data",
          "data": {
            "text/plain": [
              "<Figure size 1000x500 with 0 Axes>"
            ]
          },
          "metadata": {}
        },
        {
          "output_type": "display_data",
          "data": {
            "text/plain": [
              "<Figure size 1000x500 with 0 Axes>"
            ]
          },
          "metadata": {}
        },
        {
          "output_type": "display_data",
          "data": {
            "text/plain": [
              "<Figure size 1000x500 with 0 Axes>"
            ]
          },
          "metadata": {}
        },
        {
          "output_type": "display_data",
          "data": {
            "text/plain": [
              "<Figure size 1000x500 with 0 Axes>"
            ]
          },
          "metadata": {}
        },
        {
          "output_type": "display_data",
          "data": {
            "text/plain": [
              "<Figure size 1000x500 with 0 Axes>"
            ]
          },
          "metadata": {}
        },
        {
          "output_type": "display_data",
          "data": {
            "text/plain": [
              "<Figure size 1000x500 with 0 Axes>"
            ]
          },
          "metadata": {}
        },
        {
          "output_type": "display_data",
          "data": {
            "text/plain": [
              "<Figure size 1000x500 with 0 Axes>"
            ]
          },
          "metadata": {}
        },
        {
          "output_type": "display_data",
          "data": {
            "text/plain": [
              "<Figure size 1000x500 with 0 Axes>"
            ]
          },
          "metadata": {}
        },
        {
          "output_type": "display_data",
          "data": {
            "text/plain": [
              "<Figure size 1000x500 with 0 Axes>"
            ]
          },
          "metadata": {}
        },
        {
          "output_type": "display_data",
          "data": {
            "text/plain": [
              "<Figure size 1000x500 with 0 Axes>"
            ]
          },
          "metadata": {}
        },
        {
          "output_type": "display_data",
          "data": {
            "text/plain": [
              "<Figure size 1000x500 with 0 Axes>"
            ]
          },
          "metadata": {}
        },
        {
          "output_type": "display_data",
          "data": {
            "text/plain": [
              "<Figure size 1000x500 with 0 Axes>"
            ]
          },
          "metadata": {}
        },
        {
          "output_type": "display_data",
          "data": {
            "text/plain": [
              "<Figure size 1000x500 with 0 Axes>"
            ]
          },
          "metadata": {}
        },
        {
          "output_type": "display_data",
          "data": {
            "text/plain": [
              "<Figure size 1000x500 with 0 Axes>"
            ]
          },
          "metadata": {}
        },
        {
          "output_type": "display_data",
          "data": {
            "text/plain": [
              "<Figure size 1000x500 with 0 Axes>"
            ]
          },
          "metadata": {}
        },
        {
          "output_type": "display_data",
          "data": {
            "text/plain": [
              "<Figure size 1000x500 with 0 Axes>"
            ]
          },
          "metadata": {}
        },
        {
          "output_type": "display_data",
          "data": {
            "text/plain": [
              "<Figure size 1000x500 with 0 Axes>"
            ]
          },
          "metadata": {}
        },
        {
          "output_type": "display_data",
          "data": {
            "text/plain": [
              "<Figure size 1000x500 with 0 Axes>"
            ]
          },
          "metadata": {}
        },
        {
          "output_type": "display_data",
          "data": {
            "text/plain": [
              "<Figure size 1000x500 with 0 Axes>"
            ]
          },
          "metadata": {}
        },
        {
          "output_type": "display_data",
          "data": {
            "text/plain": [
              "<Figure size 1000x500 with 0 Axes>"
            ]
          },
          "metadata": {}
        },
        {
          "output_type": "display_data",
          "data": {
            "text/plain": [
              "<Figure size 1000x500 with 0 Axes>"
            ]
          },
          "metadata": {}
        },
        {
          "output_type": "display_data",
          "data": {
            "text/plain": [
              "<Figure size 1000x500 with 0 Axes>"
            ]
          },
          "metadata": {}
        },
        {
          "output_type": "display_data",
          "data": {
            "text/plain": [
              "<Figure size 1000x500 with 0 Axes>"
            ]
          },
          "metadata": {}
        },
        {
          "output_type": "display_data",
          "data": {
            "text/plain": [
              "<Figure size 1000x500 with 0 Axes>"
            ]
          },
          "metadata": {}
        },
        {
          "output_type": "display_data",
          "data": {
            "text/plain": [
              "<Figure size 1000x500 with 0 Axes>"
            ]
          },
          "metadata": {}
        },
        {
          "output_type": "display_data",
          "data": {
            "text/plain": [
              "<Figure size 1000x500 with 0 Axes>"
            ]
          },
          "metadata": {}
        },
        {
          "output_type": "display_data",
          "data": {
            "text/plain": [
              "<Figure size 1000x500 with 0 Axes>"
            ]
          },
          "metadata": {}
        },
        {
          "output_type": "display_data",
          "data": {
            "text/plain": [
              "<Figure size 1000x500 with 0 Axes>"
            ]
          },
          "metadata": {}
        },
        {
          "output_type": "display_data",
          "data": {
            "text/plain": [
              "<Figure size 1000x500 with 0 Axes>"
            ]
          },
          "metadata": {}
        },
        {
          "output_type": "display_data",
          "data": {
            "text/plain": [
              "<Figure size 1000x500 with 0 Axes>"
            ]
          },
          "metadata": {}
        },
        {
          "output_type": "display_data",
          "data": {
            "text/plain": [
              "<Figure size 1000x500 with 0 Axes>"
            ]
          },
          "metadata": {}
        },
        {
          "output_type": "display_data",
          "data": {
            "text/plain": [
              "<Figure size 1000x500 with 0 Axes>"
            ]
          },
          "metadata": {}
        },
        {
          "output_type": "display_data",
          "data": {
            "text/plain": [
              "<Figure size 1000x500 with 0 Axes>"
            ]
          },
          "metadata": {}
        },
        {
          "output_type": "display_data",
          "data": {
            "text/plain": [
              "<Figure size 1000x500 with 0 Axes>"
            ]
          },
          "metadata": {}
        },
        {
          "output_type": "display_data",
          "data": {
            "text/plain": [
              "<Figure size 1000x500 with 0 Axes>"
            ]
          },
          "metadata": {}
        },
        {
          "output_type": "display_data",
          "data": {
            "text/plain": [
              "<Figure size 1000x500 with 0 Axes>"
            ]
          },
          "metadata": {}
        },
        {
          "output_type": "display_data",
          "data": {
            "text/plain": [
              "<Figure size 1000x500 with 0 Axes>"
            ]
          },
          "metadata": {}
        },
        {
          "output_type": "display_data",
          "data": {
            "text/plain": [
              "<Figure size 1000x500 with 0 Axes>"
            ]
          },
          "metadata": {}
        },
        {
          "output_type": "display_data",
          "data": {
            "text/plain": [
              "<Figure size 1000x500 with 0 Axes>"
            ]
          },
          "metadata": {}
        },
        {
          "output_type": "display_data",
          "data": {
            "text/plain": [
              "<Figure size 1000x500 with 0 Axes>"
            ]
          },
          "metadata": {}
        },
        {
          "output_type": "display_data",
          "data": {
            "text/plain": [
              "<Figure size 1000x500 with 0 Axes>"
            ]
          },
          "metadata": {}
        },
        {
          "output_type": "display_data",
          "data": {
            "text/plain": [
              "<Figure size 1000x500 with 0 Axes>"
            ]
          },
          "metadata": {}
        },
        {
          "output_type": "display_data",
          "data": {
            "text/plain": [
              "<Figure size 1000x500 with 0 Axes>"
            ]
          },
          "metadata": {}
        },
        {
          "output_type": "display_data",
          "data": {
            "text/plain": [
              "<Figure size 1000x500 with 0 Axes>"
            ]
          },
          "metadata": {}
        },
        {
          "output_type": "display_data",
          "data": {
            "text/plain": [
              "<Figure size 1000x500 with 0 Axes>"
            ]
          },
          "metadata": {}
        },
        {
          "output_type": "display_data",
          "data": {
            "text/plain": [
              "<Figure size 1000x500 with 0 Axes>"
            ]
          },
          "metadata": {}
        },
        {
          "output_type": "display_data",
          "data": {
            "text/plain": [
              "<Figure size 1000x500 with 0 Axes>"
            ]
          },
          "metadata": {}
        },
        {
          "output_type": "display_data",
          "data": {
            "text/plain": [
              "<Figure size 1000x500 with 0 Axes>"
            ]
          },
          "metadata": {}
        },
        {
          "output_type": "display_data",
          "data": {
            "text/plain": [
              "<Figure size 1000x500 with 0 Axes>"
            ]
          },
          "metadata": {}
        },
        {
          "output_type": "display_data",
          "data": {
            "text/plain": [
              "<Figure size 1000x500 with 0 Axes>"
            ]
          },
          "metadata": {}
        },
        {
          "output_type": "display_data",
          "data": {
            "text/plain": [
              "<Figure size 1000x500 with 0 Axes>"
            ]
          },
          "metadata": {}
        },
        {
          "output_type": "display_data",
          "data": {
            "text/plain": [
              "<Figure size 1000x500 with 0 Axes>"
            ]
          },
          "metadata": {}
        },
        {
          "output_type": "display_data",
          "data": {
            "text/plain": [
              "<Figure size 1000x500 with 0 Axes>"
            ]
          },
          "metadata": {}
        },
        {
          "output_type": "display_data",
          "data": {
            "text/plain": [
              "<Figure size 1000x500 with 0 Axes>"
            ]
          },
          "metadata": {}
        },
        {
          "output_type": "display_data",
          "data": {
            "text/plain": [
              "<Figure size 1000x500 with 0 Axes>"
            ]
          },
          "metadata": {}
        },
        {
          "output_type": "display_data",
          "data": {
            "text/plain": [
              "<Figure size 1000x500 with 0 Axes>"
            ]
          },
          "metadata": {}
        },
        {
          "output_type": "display_data",
          "data": {
            "text/plain": [
              "<Figure size 1000x500 with 0 Axes>"
            ]
          },
          "metadata": {}
        },
        {
          "output_type": "display_data",
          "data": {
            "text/plain": [
              "<Figure size 1000x500 with 0 Axes>"
            ]
          },
          "metadata": {}
        },
        {
          "output_type": "display_data",
          "data": {
            "text/plain": [
              "<Figure size 1000x500 with 0 Axes>"
            ]
          },
          "metadata": {}
        },
        {
          "output_type": "display_data",
          "data": {
            "text/plain": [
              "<Figure size 1000x500 with 0 Axes>"
            ]
          },
          "metadata": {}
        },
        {
          "output_type": "display_data",
          "data": {
            "text/plain": [
              "<Figure size 1000x500 with 0 Axes>"
            ]
          },
          "metadata": {}
        },
        {
          "output_type": "display_data",
          "data": {
            "text/plain": [
              "<Figure size 1000x500 with 0 Axes>"
            ]
          },
          "metadata": {}
        },
        {
          "output_type": "display_data",
          "data": {
            "text/plain": [
              "<Figure size 1000x500 with 0 Axes>"
            ]
          },
          "metadata": {}
        },
        {
          "output_type": "display_data",
          "data": {
            "text/plain": [
              "<Figure size 1000x500 with 0 Axes>"
            ]
          },
          "metadata": {}
        },
        {
          "output_type": "display_data",
          "data": {
            "text/plain": [
              "<Figure size 1000x500 with 0 Axes>"
            ]
          },
          "metadata": {}
        },
        {
          "output_type": "display_data",
          "data": {
            "text/plain": [
              "<Figure size 1000x500 with 0 Axes>"
            ]
          },
          "metadata": {}
        },
        {
          "output_type": "display_data",
          "data": {
            "text/plain": [
              "<Figure size 1000x500 with 0 Axes>"
            ]
          },
          "metadata": {}
        },
        {
          "output_type": "display_data",
          "data": {
            "text/plain": [
              "<Figure size 1000x500 with 0 Axes>"
            ]
          },
          "metadata": {}
        },
        {
          "output_type": "display_data",
          "data": {
            "text/plain": [
              "<Figure size 1000x500 with 0 Axes>"
            ]
          },
          "metadata": {}
        },
        {
          "output_type": "display_data",
          "data": {
            "text/plain": [
              "<Figure size 1000x500 with 0 Axes>"
            ]
          },
          "metadata": {}
        },
        {
          "output_type": "display_data",
          "data": {
            "text/plain": [
              "<Figure size 1000x500 with 0 Axes>"
            ]
          },
          "metadata": {}
        },
        {
          "output_type": "display_data",
          "data": {
            "text/plain": [
              "<Figure size 1000x500 with 0 Axes>"
            ]
          },
          "metadata": {}
        },
        {
          "output_type": "display_data",
          "data": {
            "text/plain": [
              "<Figure size 1000x500 with 0 Axes>"
            ]
          },
          "metadata": {}
        },
        {
          "output_type": "display_data",
          "data": {
            "text/plain": [
              "<Figure size 1000x500 with 0 Axes>"
            ]
          },
          "metadata": {}
        },
        {
          "output_type": "display_data",
          "data": {
            "text/plain": [
              "<Figure size 1000x500 with 0 Axes>"
            ]
          },
          "metadata": {}
        },
        {
          "output_type": "display_data",
          "data": {
            "text/plain": [
              "<Figure size 1000x500 with 0 Axes>"
            ]
          },
          "metadata": {}
        },
        {
          "output_type": "display_data",
          "data": {
            "text/plain": [
              "<Figure size 1000x500 with 0 Axes>"
            ]
          },
          "metadata": {}
        },
        {
          "output_type": "display_data",
          "data": {
            "text/plain": [
              "<Figure size 1000x500 with 0 Axes>"
            ]
          },
          "metadata": {}
        },
        {
          "output_type": "display_data",
          "data": {
            "text/plain": [
              "<Figure size 1000x500 with 0 Axes>"
            ]
          },
          "metadata": {}
        },
        {
          "output_type": "display_data",
          "data": {
            "text/plain": [
              "<Figure size 1000x500 with 0 Axes>"
            ]
          },
          "metadata": {}
        },
        {
          "output_type": "display_data",
          "data": {
            "text/plain": [
              "<Figure size 1000x500 with 0 Axes>"
            ]
          },
          "metadata": {}
        },
        {
          "output_type": "display_data",
          "data": {
            "text/plain": [
              "<Figure size 1000x500 with 0 Axes>"
            ]
          },
          "metadata": {}
        },
        {
          "output_type": "display_data",
          "data": {
            "text/plain": [
              "<Figure size 1000x500 with 0 Axes>"
            ]
          },
          "metadata": {}
        },
        {
          "output_type": "display_data",
          "data": {
            "text/plain": [
              "<Figure size 1000x500 with 0 Axes>"
            ]
          },
          "metadata": {}
        },
        {
          "output_type": "display_data",
          "data": {
            "text/plain": [
              "<Figure size 1000x500 with 0 Axes>"
            ]
          },
          "metadata": {}
        },
        {
          "output_type": "display_data",
          "data": {
            "text/plain": [
              "<Figure size 1000x500 with 0 Axes>"
            ]
          },
          "metadata": {}
        },
        {
          "output_type": "display_data",
          "data": {
            "text/plain": [
              "<Figure size 1000x500 with 0 Axes>"
            ]
          },
          "metadata": {}
        },
        {
          "output_type": "display_data",
          "data": {
            "text/plain": [
              "<Figure size 1000x500 with 0 Axes>"
            ]
          },
          "metadata": {}
        },
        {
          "output_type": "display_data",
          "data": {
            "text/plain": [
              "<Figure size 1000x500 with 0 Axes>"
            ]
          },
          "metadata": {}
        },
        {
          "output_type": "display_data",
          "data": {
            "text/plain": [
              "<Figure size 1000x500 with 0 Axes>"
            ]
          },
          "metadata": {}
        },
        {
          "output_type": "display_data",
          "data": {
            "text/plain": [
              "<Figure size 1000x500 with 0 Axes>"
            ]
          },
          "metadata": {}
        },
        {
          "output_type": "display_data",
          "data": {
            "text/plain": [
              "<Figure size 1000x500 with 0 Axes>"
            ]
          },
          "metadata": {}
        },
        {
          "output_type": "display_data",
          "data": {
            "text/plain": [
              "<Figure size 1000x500 with 0 Axes>"
            ]
          },
          "metadata": {}
        },
        {
          "output_type": "display_data",
          "data": {
            "text/plain": [
              "<Figure size 1000x500 with 0 Axes>"
            ]
          },
          "metadata": {}
        },
        {
          "output_type": "display_data",
          "data": {
            "text/plain": [
              "<Figure size 1000x500 with 0 Axes>"
            ]
          },
          "metadata": {}
        },
        {
          "output_type": "display_data",
          "data": {
            "text/plain": [
              "<Figure size 1000x500 with 0 Axes>"
            ]
          },
          "metadata": {}
        },
        {
          "output_type": "display_data",
          "data": {
            "text/plain": [
              "<Figure size 1000x500 with 0 Axes>"
            ]
          },
          "metadata": {}
        },
        {
          "output_type": "display_data",
          "data": {
            "text/plain": [
              "<Figure size 1000x500 with 0 Axes>"
            ]
          },
          "metadata": {}
        },
        {
          "output_type": "display_data",
          "data": {
            "text/plain": [
              "<Figure size 1000x500 with 0 Axes>"
            ]
          },
          "metadata": {}
        },
        {
          "output_type": "display_data",
          "data": {
            "text/plain": [
              "<Figure size 1000x500 with 0 Axes>"
            ]
          },
          "metadata": {}
        },
        {
          "output_type": "display_data",
          "data": {
            "text/plain": [
              "<Figure size 1000x500 with 0 Axes>"
            ]
          },
          "metadata": {}
        },
        {
          "output_type": "display_data",
          "data": {
            "text/plain": [
              "<Figure size 1000x500 with 0 Axes>"
            ]
          },
          "metadata": {}
        },
        {
          "output_type": "display_data",
          "data": {
            "text/plain": [
              "<Figure size 1000x500 with 0 Axes>"
            ]
          },
          "metadata": {}
        },
        {
          "output_type": "display_data",
          "data": {
            "text/plain": [
              "<Figure size 1000x500 with 0 Axes>"
            ]
          },
          "metadata": {}
        },
        {
          "output_type": "display_data",
          "data": {
            "text/plain": [
              "<Figure size 1000x500 with 0 Axes>"
            ]
          },
          "metadata": {}
        },
        {
          "output_type": "display_data",
          "data": {
            "text/plain": [
              "<Figure size 1000x500 with 0 Axes>"
            ]
          },
          "metadata": {}
        },
        {
          "output_type": "display_data",
          "data": {
            "text/plain": [
              "<Figure size 1000x500 with 0 Axes>"
            ]
          },
          "metadata": {}
        },
        {
          "output_type": "display_data",
          "data": {
            "text/plain": [
              "<Figure size 1000x500 with 0 Axes>"
            ]
          },
          "metadata": {}
        },
        {
          "output_type": "display_data",
          "data": {
            "text/plain": [
              "<Figure size 1000x500 with 0 Axes>"
            ]
          },
          "metadata": {}
        },
        {
          "output_type": "display_data",
          "data": {
            "text/plain": [
              "<Figure size 1000x500 with 0 Axes>"
            ]
          },
          "metadata": {}
        },
        {
          "output_type": "display_data",
          "data": {
            "text/plain": [
              "<Figure size 1000x500 with 0 Axes>"
            ]
          },
          "metadata": {}
        },
        {
          "output_type": "display_data",
          "data": {
            "text/plain": [
              "<Figure size 1000x500 with 0 Axes>"
            ]
          },
          "metadata": {}
        },
        {
          "output_type": "display_data",
          "data": {
            "text/plain": [
              "<Figure size 1000x500 with 0 Axes>"
            ]
          },
          "metadata": {}
        },
        {
          "output_type": "display_data",
          "data": {
            "text/plain": [
              "<Figure size 1000x500 with 0 Axes>"
            ]
          },
          "metadata": {}
        },
        {
          "output_type": "display_data",
          "data": {
            "text/plain": [
              "<Figure size 1000x500 with 0 Axes>"
            ]
          },
          "metadata": {}
        },
        {
          "output_type": "display_data",
          "data": {
            "text/plain": [
              "<Figure size 1000x500 with 0 Axes>"
            ]
          },
          "metadata": {}
        },
        {
          "output_type": "display_data",
          "data": {
            "text/plain": [
              "<Figure size 1000x500 with 0 Axes>"
            ]
          },
          "metadata": {}
        },
        {
          "output_type": "display_data",
          "data": {
            "text/plain": [
              "<Figure size 1000x500 with 0 Axes>"
            ]
          },
          "metadata": {}
        },
        {
          "output_type": "display_data",
          "data": {
            "text/plain": [
              "<Figure size 1000x500 with 0 Axes>"
            ]
          },
          "metadata": {}
        },
        {
          "output_type": "display_data",
          "data": {
            "text/plain": [
              "<Figure size 1000x500 with 0 Axes>"
            ]
          },
          "metadata": {}
        },
        {
          "output_type": "display_data",
          "data": {
            "text/plain": [
              "<Figure size 1000x500 with 0 Axes>"
            ]
          },
          "metadata": {}
        },
        {
          "output_type": "display_data",
          "data": {
            "text/plain": [
              "<Figure size 1000x500 with 0 Axes>"
            ]
          },
          "metadata": {}
        },
        {
          "output_type": "display_data",
          "data": {
            "text/plain": [
              "<Figure size 1000x500 with 0 Axes>"
            ]
          },
          "metadata": {}
        },
        {
          "output_type": "display_data",
          "data": {
            "text/plain": [
              "<Figure size 1000x500 with 0 Axes>"
            ]
          },
          "metadata": {}
        },
        {
          "output_type": "display_data",
          "data": {
            "text/plain": [
              "<Figure size 1000x500 with 0 Axes>"
            ]
          },
          "metadata": {}
        },
        {
          "output_type": "display_data",
          "data": {
            "text/plain": [
              "<Figure size 1000x500 with 0 Axes>"
            ]
          },
          "metadata": {}
        },
        {
          "output_type": "display_data",
          "data": {
            "text/plain": [
              "<Figure size 1000x500 with 0 Axes>"
            ]
          },
          "metadata": {}
        },
        {
          "output_type": "display_data",
          "data": {
            "text/plain": [
              "<Figure size 1000x500 with 0 Axes>"
            ]
          },
          "metadata": {}
        }
      ]
    },
    {
      "cell_type": "markdown",
      "metadata": {
        "id": "jDvxkztWDsYd"
      },
      "source": [
        "# 5. Inference"
      ]
    },
    {
      "cell_type": "code",
      "execution_count": null,
      "metadata": {
        "id": "odPtmz_lD2Rd",
        "colab": {
          "base_uri": "https://localhost:8080/"
        },
        "outputId": "98997acf-95ed-43e7-b41b-c1dfcc3344e2"
      },
      "outputs": [
        {
          "output_type": "stream",
          "name": "stdout",
          "text": [
            "\n",
            " ==> Running Real_Denoising with weights /content/drive/MyDrive/Restormer/Denoising/pretrained_models/real_denoising.pth\n",
            " \n"
          ]
        },
        {
          "output_type": "stream",
          "name": "stderr",
          "text": [
            "100%|██████████| 1/1 [00:03<00:00,  3.86s/it]\n"
          ]
        }
      ],
      "source": [
        "input_dir = 'demo/sample_images/'+task+'/degraded'\n",
        "out_dir = 'demo/sample_images/'+task+'/restored'\n",
        "os.makedirs(out_dir, exist_ok=True)\n",
        "extensions = ['jpg', 'JPG', 'png', 'PNG', 'jpeg', 'JPEG', 'bmp', 'BMP']\n",
        "files = natsorted(glob(os.path.join(input_dir, '*')))\n",
        "\n",
        "img_multiple_of = 8\n",
        "\n",
        "print(f\"\\n ==> Running {task} with weights {weights}\\n \")\n",
        "with torch.no_grad():\n",
        "  for filepath in tqdm(files):\n",
        "      # print(file_)\n",
        "      torch.cuda.ipc_collect()\n",
        "      torch.cuda.empty_cache()\n",
        "      img = cv2.cvtColor(cv2.imread(filepath), cv2.COLOR_BGR2RGB)\n",
        "      input_ = torch.from_numpy(img).float().div(255.).permute(2,0,1).unsqueeze(0).cuda()\n",
        "\n",
        "      # Pad the input if not_multiple_of 8\n",
        "      h,w = input_.shape[2], input_.shape[3]\n",
        "      H,W = ((h+img_multiple_of)//img_multiple_of)*img_multiple_of, ((w+img_multiple_of)//img_multiple_of)*img_multiple_of\n",
        "      padh = H-h if h%img_multiple_of!=0 else 0\n",
        "      padw = W-w if w%img_multiple_of!=0 else 0\n",
        "      input_ = F.pad(input_, (0,padw,0,padh), 'reflect')\n",
        "\n",
        "      restored = model(input_)\n",
        "      restored = torch.clamp(restored, 0, 1)\n",
        "\n",
        "      # Unpad the output\n",
        "      restored = restored[:,:,:h,:w]\n",
        "\n",
        "      restored = restored.permute(0, 2, 3, 1).cpu().detach().numpy()\n",
        "      restored = img_as_ubyte(restored[0])\n",
        "\n",
        "      filename = os.path.split(filepath)[-1]\n",
        "      cv2.imwrite(os.path.join(out_dir, filename),cv2.cvtColor(restored, cv2.COLOR_RGB2BGR))"
      ]
    },
    {
      "cell_type": "code",
      "source": [],
      "metadata": {
        "id": "1ytVKjnNd8kb"
      },
      "execution_count": null,
      "outputs": []
    },
    {
      "cell_type": "markdown",
      "metadata": {
        "id": "4bwDss7ui1y2"
      },
      "source": [
        "# 6. Visualize Results\n"
      ]
    },
    {
      "cell_type": "code",
      "execution_count": null,
      "metadata": {
        "colab": {
          "base_uri": "https://localhost:8080/",
          "height": 264
        },
        "id": "jm5gyBgzlONb",
        "outputId": "272b9f83-a76d-4704-d009-d85c0de953f6"
      },
      "outputs": [
        {
          "output_type": "stream",
          "name": "stdout",
          "text": [
            "Results: Real_Denoising\n"
          ]
        },
        {
          "output_type": "display_data",
          "data": {
            "text/plain": [
              "<Figure size 900x448 with 2 Axes>"
            ],
            "image/png": "[encoded data removed]"
          },
          "metadata": {}
        }
      ],
      "source": [
        "import matplotlib.pyplot as plt\n",
        "inp_filenames = natsorted(glob(os.path.join(input_dir, '*')))\n",
        "out_filenames = natsorted(glob(os.path.join(out_dir, '*')))\n",
        "\n",
        "## Will display only first 5 images\n",
        "num_display_images = 5\n",
        "if len(inp_filenames)>num_display_images:\n",
        "  inp_filenames = inp_filenames[:num_display_images]\n",
        "  out_filenames = out_filenames[:num_display_images]\n",
        "\n",
        "print(f\"Results: {task}\")\n",
        "for inp_file, out_file in zip(inp_filenames, out_filenames):\n",
        "  degraded = cv2.cvtColor(cv2.imread(inp_file), cv2.COLOR_BGR2RGB)\n",
        "  restored = cv2.cvtColor(cv2.imread(out_file), cv2.COLOR_BGR2RGB)\n",
        "  ## Display Images\n",
        "  fig, axes = plt.subplots(nrows=1, ncols=2)\n",
        "  dpi = fig.get_dpi()\n",
        "  fig.set_size_inches(900/ dpi, 448 / dpi)\n",
        "  plt.subplots_adjust(left=0, right=1, bottom=0, top=1)\n",
        "  axes[0].axis('off')\n",
        "  axes[0].imshow(degraded)\n",
        "  axes[1].axis('off')\n",
        "  axes[1].imshow(restored)\n",
        "  plt.show()"
      ]
    },
    {
      "cell_type": "markdown",
      "metadata": {
        "id": "T9TuiD7OtX9V"
      },
      "source": [
        "# 7. Download Results"
      ]
    },
    {
      "cell_type": "code",
      "execution_count": null,
      "metadata": {
        "id": "3yVqiRjflYll",
        "colab": {
          "base_uri": "https://localhost:8080/",
          "height": 17
        },
        "outputId": "f4f9bc27-e3b5-4fd5-b33e-11da7c60bc6d"
      },
      "outputs": [
        {
          "output_type": "display_data",
          "data": {
            "text/plain": [
              "<IPython.core.display.Javascript object>"
            ],
            "application/javascript": [
              "\n",
              "    async function download(id, filename, size) {\n",
              "      if (!google.colab.kernel.accessAllowed) {\n",
              "        return;\n",
              "      }\n",
              "      const div = document.createElement('div');\n",
              "      const label = document.createElement('label');\n",
              "      label.textContent = `Downloading \"${filename}\": `;\n",
              "      div.appendChild(label);\n",
              "      const progress = document.createElement('progress');\n",
              "      progress.max = size;\n",
              "      div.appendChild(progress);\n",
              "      document.body.appendChild(div);\n",
              "\n",
              "      const buffers = [];\n",
              "      let downloaded = 0;\n",
              "\n",
              "      const channel = await google.colab.kernel.comms.open(id);\n",
              "      // Send a message to notify the kernel that we're ready.\n",
              "      channel.send({})\n",
              "\n",
              "      for await (const message of channel.messages) {\n",
              "        // Send a message to notify the kernel that we're ready.\n",
              "        channel.send({})\n",
              "        if (message.buffers) {\n",
              "          for (const buffer of message.buffers) {\n",
              "            buffers.push(buffer);\n",
              "            downloaded += buffer.byteLength;\n",
              "            progress.value = downloaded;\n",
              "          }\n",
              "        }\n",
              "      }\n",
              "      const blob = new Blob(buffers, {type: 'application/binary'});\n",
              "      const a = document.createElement('a');\n",
              "      a.href = window.URL.createObjectURL(blob);\n",
              "      a.download = filename;\n",
              "      div.appendChild(a);\n",
              "      a.click();\n",
              "      div.remove();\n",
              "    }\n",
              "  "
            ]
          },
          "metadata": {}
        },
        {
          "output_type": "display_data",
          "data": {
            "text/plain": [
              "<IPython.core.display.Javascript object>"
            ],
            "application/javascript": [
              "download(\"download_1068b937-5e7d-4d28-84e8-e5ae53a74a24\", \"Restormer_Motion_Deblurring.zip\", 305712)"
            ]
          },
          "metadata": {}
        }
      ],
      "source": [
        "from google.colab import files\n",
        "zip_filename = f\"Restormer_{task}.zip\"\n",
        "os.system(f\"zip -r {zip_filename} demo/sample_images/{task}\")\n",
        "files.download(zip_filename)"
      ]
    },
    {
      "cell_type": "code",
      "execution_count": null,
      "metadata": {
        "id": "NYG9bFUSvEb8"
      },
      "outputs": [],
      "source": []
    }
  ],
  "metadata": {
    "accelerator": "GPU",
    "colab": {
      "provenance": [],
      "gpuType": "T4"
    },
    "kernelspec": {
      "display_name": "Python 3",
      "name": "python3"
    },
    "language_info": {
      "name": "python"
    }
  },
  "nbformat": 4,
  "nbformat_minor": 0
}